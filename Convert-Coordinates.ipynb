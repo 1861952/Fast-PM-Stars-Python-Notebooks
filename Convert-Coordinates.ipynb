{
 "cells": [
  {
   "cell_type": "code",
   "execution_count": 29,
   "id": "b1d9c6c4-f959-48eb-8c39-ddeb63fbc934",
   "metadata": {},
   "outputs": [],
   "source": [
    "import numpy as np\n",
    "import pandas as pd\n",
    "from scipy.stats import norm\n",
    "import matplotlib.pyplot as plt\n",
    "import astropy.units as u\n",
    "import astropy.coordinates as coord\n",
    "\n",
    "# phi is 0 to 2pi on xy-plane and z \n",
    "def sphere_to_cart(rho, phi, theta):\n",
    "    xyz_list = np.zeros(3)\n",
    "    xyz_list[0] = rho*np.cos(phi)*np.sin(theta)\n",
    "    xyz_list[1] = rho*np.sin(phi)*np.sin(theta)\n",
    "    xyz_list[2] = rho*np.cos(phi)\n",
    "    return xyz_list\n",
    "\n",
    "def cart_to_sphere(x, y, z):\n",
    "    # gives rho, phi, theta\n",
    "    sphere_list = np.zeros(3)\n",
    "    sphere_list[0] = np.sqrt(x**2 + y**2 + z**2)\n",
    "    sphere_list[1] = np.arctan(y/x)\n",
    "    sphere_list[2] = np.arccos(z/sqrt(x**2 + y**2 + z**2))\n",
    "    return sphere_list\n",
    "\n",
    "def cart_to_cylindrical(x, y, z):\n",
    "    # gives r, phi, z\n",
    "    cyl_list = np.zeros(3)\n",
    "    cyl_list[0] = np.sqrt(x**2 + y**2)\n",
    "    cyl_list[1] = np.arctan(y/x)\n",
    "    cyl_list[2] = z\n",
    "    return cyl_list\n",
    "\n",
    "def cylindrical_to_cart(r, phi, z):\n",
    "    xyz_list = np.zeros(3)\n",
    "    xyz_list[0] = r*np.cos(phi)\n",
    "    xyz_list[1] = r*np.sin(phi)\n",
    "    xyz_list[2] = z\n",
    "    return xyz_list\n"
   ]
  },
  {
   "cell_type": "code",
   "execution_count": null,
   "id": "3939e40f-361e-49be-a88b-f804ae00b621",
   "metadata": {},
   "outputs": [],
   "source": []
  },
  {
   "cell_type": "code",
   "execution_count": null,
   "id": "498c0b5a-6a88-4ee0-becb-b2f89f94383f",
   "metadata": {},
   "outputs": [],
   "source": []
  },
  {
   "cell_type": "code",
   "execution_count": null,
   "id": "99cd6dbe-462e-4233-9faf-f4b0847a07d7",
   "metadata": {},
   "outputs": [],
   "source": []
  },
  {
   "cell_type": "code",
   "execution_count": null,
   "id": "abb3db53-281f-43d3-87c5-f37891b2079c",
   "metadata": {},
   "outputs": [],
   "source": []
  }
 ],
 "metadata": {
  "kernelspec": {
   "display_name": "Python 3 (ipykernel)",
   "language": "python",
   "name": "python3"
  },
  "language_info": {
   "codemirror_mode": {
    "name": "ipython",
    "version": 3
   },
   "file_extension": ".py",
   "mimetype": "text/x-python",
   "name": "python",
   "nbconvert_exporter": "python",
   "pygments_lexer": "ipython3",
   "version": "3.11.7"
  }
 },
 "nbformat": 4,
 "nbformat_minor": 5
}
