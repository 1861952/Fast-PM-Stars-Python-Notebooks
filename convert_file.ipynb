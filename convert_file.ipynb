{
 "cells": [
  {
   "cell_type": "code",
   "execution_count": 1,
   "id": "1cdf5ed3-8cd3-4c9b-8302-05e2458a4ab7",
   "metadata": {},
   "outputs": [],
   "source": [
    "import numpy as np\n",
    "import pandas as pd\n",
    "\n",
    "from astropy.io import fits\n",
    "from astropy import units as u\n",
    "from astropy import constants as const\n",
    "\n",
    "from pathlib import Path"
   ]
  },
  {
   "cell_type": "markdown",
   "id": "b81ac375-8b44-4474-94ab-a856cd30b361",
   "metadata": {},
   "source": [
    "# Reads in Ascii file and returns wavelengths in cm and transmissions #"
   ]
  },
  {
   "cell_type": "code",
   "execution_count": 3,
   "id": "c42db9c3-55e9-42ce-8003-2540cb9a1d27",
   "metadata": {},
   "outputs": [],
   "source": [
    "def ascii_to_array(filename):\n",
    "    # Read the text file into a DataFrame\n",
    "    data = pd.read_csv(filename, sep=' ', header=None, names=['Wavelength', 'Transmission'])\n",
    "\n",
    "    # wavelength in Angstrom\n",
    "    column1 = (data['Wavelength'].values)*u.AA\n",
    "    # Probability of photon going through\n",
    "    column2 = data['Transmission'].values\n",
    "    return column1, column2"
   ]
  },
  {
   "cell_type": "markdown",
   "id": "61239900-bcc9-4519-b262-f4ff939432ca",
   "metadata": {},
   "source": [
    "# Reads in Fits file and returns spline for flux at surface (Phoenix Model) #"
   ]
  },
  {
   "cell_type": "code",
   "execution_count": 5,
   "id": "3c735e3b-f040-423e-91d5-6f70bea1fb7f",
   "metadata": {},
   "outputs": [],
   "source": [
    "def fits_to_spline(fileURL, log_g):\n",
    "    hdul = fits.open(fileURL)\n",
    "    data_fits = hdul[1].data\n",
    "    # Wavelengths from fits table\n",
    "    wavLen = data_fits['WAVELENGTH']\n",
    "    # f_lamda values for specific log(g) \n",
    "    f_lambda = data_fits[log_g]\n",
    "    # Makes spline based table\n",
    "    # convert from Angstrom to cm\n",
    "    wavelengthArr_cm = 1e-8*wavLen\n",
    "    f_lambda_table_per_cm = f_lambda*1e8  \n",
    "    # Returns spline at surface based on Phoenix model\n",
    "    # convert from f_lambda to f_nu\n",
    "    return InterpolatedUnivariateSpline(wavelengthArr_cm, f_lambda_table_per_cm*wavelengthArr_cm**2/const.c.cgs.value, k=1, ext=\"zeros\")\n",
    "  \n",
    "    "
   ]
  },
  {
   "cell_type": "markdown",
   "id": "ad1f2e73-396f-4a0f-a77b-986bf4b89bad",
   "metadata": {},
   "source": [
    "# Finds nearest value (absolute value) in an array #"
   ]
  },
  {
   "cell_type": "code",
   "execution_count": 216,
   "id": "950fecde-855a-4146-91be-861852494a3b",
   "metadata": {},
   "outputs": [],
   "source": [
    "def find_nearest_value(target, array):\n",
    "    target = float(target)\n",
    "    diff_arr = np.abs(np.asarray(array)-target)\n",
    "    print(f\"diff: {diff_arr}\")\n",
    "    index = (np.abs(array - target)).argmin()\n",
    "    return array[index]\n"
   ]
  },
  {
   "cell_type": "markdown",
   "id": "f5e82b79-7862-4499-a668-9ad56f411245",
   "metadata": {},
   "source": [
    "# Creates a dictionary where key is ($T_{eff}$, log(g)) and value is the file name #"
   ]
  },
  {
   "cell_type": "code",
   "execution_count": 254,
   "id": "8839086f-5a87-4d20-a744-18d66b53fee6",
   "metadata": {},
   "outputs": [],
   "source": [
    "\n",
    "def create_dict(foldername, glob_str):\n",
    "    # Get folder\n",
    "    path = Path(foldername)\n",
    "    path.glob(glob_str)\n",
    "\n",
    "    # create dictionary : key is (T, log(g)) value is 'filename'\n",
    "    file_dict = dict()\n",
    "    for filepath in path.glob(\"sp_*\"):\n",
    "        filename = filepath.name\n",
    "        fr = filepath.name.removeprefix(\"sp_t\").removesuffix(\"nc_m-0.5.txt\")\n",
    "        T_eff = float(fr[0:4])\n",
    "        g_mks = float(fr[5:])\n",
    "        log_g_cgs = np.log10(g_mks*float(100))\n",
    "        file_dict.update({(T_eff, log_g_cgs, g_mks): filename})\n",
    "        \n",
    "    # np.unique automatically sorts\n",
    "    T_eff_arr = np.unique([temp for temp, _lgg, _g in file_dict])\n",
    "    log_g_arr = np.unique([lgg for _temp, lgg, _g in file_dict])\n",
    "    g_mks_arr = np.unique([lgg for _temp, lgg, _g in file_dict])\n",
    "    T_eff_arr = np.asarray(T_eff_arr)\n",
    "    log_g_arr = np.asarray(log_g_arr)\n",
    "    g_mks_arr = np.asarray(g_mks_arr)\n",
    "    return T_eff_arr, log_g_arr, g_mks_arr, file_dict\n",
    "\n",
    "\n"
   ]
  },
  {
   "cell_type": "markdown",
   "id": "8c661a85-e840-483c-93e2-36b5b7470f1a",
   "metadata": {},
   "source": [
    "# Finds correct Sonora model file name based on $T_{eff}$ and $log(g)$  input #"
   ]
  },
  {
   "cell_type": "code",
   "execution_count": 268,
   "id": "1abc5dee-8daa-435e-89b2-7988e4073739",
   "metadata": {},
   "outputs": [],
   "source": [
    "def find_file(T_eff_actual, log_g_actual, foldername, glob_str):\n",
    "    T_eff_array, log_g_array, g_mks_array, file_dict = create_dict(foldername, glob_str) \n",
    "    closest_T_eff = find_nearest_value(T_eff_actual, T_eff_array)\n",
    "    closest_log_g = find_nearest_value(log_g_actual, log_g_array)\n",
    "    print(closest_log_g)\n",
    "    g_mks = np.round(float(10)**(closest_log_g-float(2)))\n",
    "    print(g_mks)\n",
    "    filename = f\"sp_t{int(closest_T_eff)}g{int(g_mks)}nc_m-0.5.txt\" \n",
    "    return filename\n",
    "    "
   ]
  },
  {
   "cell_type": "code",
   "execution_count": 270,
   "id": "dd2ea5d5-8801-42f8-9f39-5fe08cd2325e",
   "metadata": {},
   "outputs": [
    {
     "name": "stdout",
     "output_type": "stream",
     "text": [
      "diff: [667. 567. 467. 367. 267. 167.  67.  33. 133. 333.]\n",
      "diff: [0.3        0.19968708]\n",
      "5.4996870826184034\n",
      "3160.0\n"
     ]
    },
    {
     "data": {
      "text/plain": [
       "'sp_t2100g3160nc_m-0.5.txt'"
      ]
     },
     "execution_count": 270,
     "metadata": {},
     "output_type": "execute_result"
    }
   ],
   "source": [
    "find_file(2067, 5.3, \"Sonora Model\", \"sp_*\")"
   ]
  },
  {
   "cell_type": "markdown",
   "id": "6c3ecc98-c8f5-4c01-ba38-f3014a6829e5",
   "metadata": {},
   "source": [
    "# Read in Sonora Model Spectra Files #"
   ]
  },
  {
   "cell_type": "code",
   "execution_count": null,
   "id": "7d4489a1-0136-4b81-a4ae-f565c05a0e24",
   "metadata": {},
   "outputs": [],
   "source": [
    "def sonora_to_spline(filename):\n",
    "    data = pd.read_csv(filename, skiprows=3, sep='\\s+', names=['Wavelength', 'Flux'])\n",
    "    # UNABLE TO DO ASTROPY UNITS FOR BOTH\n",
    "    # convert from microns to centimeters\n",
    "    wavelengths = data['Wavelength']*1e-4\n",
    "    wavelengths = wavelengths[::-1]\n",
    "    # observer flux\n",
    "    Fluxes = data['Flux']\n",
    "    Fluxes = Fluxes[::-1]\n",
    "    # Makes spline based on table\n",
    "    # Returns spline at surface based on Phoenix model\n",
    "    # (already in f_nu so don't need to convert)\n",
    "    return InterpolatedUnivariateSpline(wavelengths, Fluxes, k=1, ext=\"zeros\")\n"
   ]
  }
 ],
 "metadata": {
  "kernelspec": {
   "display_name": "Python 3 (ipykernel)",
   "language": "python",
   "name": "python3"
  },
  "language_info": {
   "codemirror_mode": {
    "name": "ipython",
    "version": 3
   },
   "file_extension": ".py",
   "mimetype": "text/x-python",
   "name": "python",
   "nbconvert_exporter": "python",
   "pygments_lexer": "ipython3",
   "version": "3.11.7"
  }
 },
 "nbformat": 4,
 "nbformat_minor": 5
}
