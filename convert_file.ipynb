{
 "cells": [
  {
   "cell_type": "code",
   "execution_count": 1,
   "id": "1cdf5ed3-8cd3-4c9b-8302-05e2458a4ab7",
   "metadata": {},
   "outputs": [],
   "source": [
    "import numpy as np\n",
    "import pandas as pd\n",
    "\n",
    "from astropy.io import fits\n",
    "from astropy import units as u\n",
    "from astropy import constants as const"
   ]
  },
  {
   "cell_type": "markdown",
   "id": "b81ac375-8b44-4474-94ab-a856cd30b361",
   "metadata": {},
   "source": [
    "# Reads in Ascii file and returns wavelengths in cm and transmissions #"
   ]
  },
  {
   "cell_type": "code",
   "execution_count": 3,
   "id": "c42db9c3-55e9-42ce-8003-2540cb9a1d27",
   "metadata": {},
   "outputs": [],
   "source": [
    "def ascii_to_array(filename):\n",
    "    # Read the text file into a DataFrame\n",
    "    data = pd.read_csv(filename, sep=' ', header=None, names=['Wavelength', 'Transmission'])\n",
    "\n",
    "    # wavelength in Angstrom\n",
    "    column1 = (data['Wavelength'].values)*u.AA\n",
    "    # Probability of photon going through\n",
    "    column2 = data['Transmission'].values\n",
    "    return column1, column2"
   ]
  },
  {
   "cell_type": "markdown",
   "id": "61239900-bcc9-4519-b262-f4ff939432ca",
   "metadata": {},
   "source": [
    "# Reads in Fits file and returns spline for flux at surface (Phoenix Model) #"
   ]
  },
  {
   "cell_type": "code",
   "execution_count": 5,
   "id": "3c735e3b-f040-423e-91d5-6f70bea1fb7f",
   "metadata": {},
   "outputs": [],
   "source": [
    "def fits_to_spline(fileURL, log_g):\n",
    "    hdul = fits.open(fileURL)\n",
    "    data_fits = hdul[1].data\n",
    "    # Wavelengths from fits table\n",
    "    wavLen = data_fits['WAVELENGTH']\n",
    "    # f_lamda values for specific log(g) \n",
    "    f_lambda = data_fits[log_g]\n",
    "    # Makes spline based table\n",
    "    spl = spline_lambda(f_lambda, wavLen)\n",
    "    # Returns spline at surface based on Phoenix model\n",
    "    return spl\n",
    "    "
   ]
  }
 ],
 "metadata": {
  "kernelspec": {
   "display_name": "Python 3 (ipykernel)",
   "language": "python",
   "name": "python3"
  },
  "language_info": {
   "codemirror_mode": {
    "name": "ipython",
    "version": 3
   },
   "file_extension": ".py",
   "mimetype": "text/x-python",
   "name": "python",
   "nbconvert_exporter": "python",
   "pygments_lexer": "ipython3",
   "version": "3.11.7"
  }
 },
 "nbformat": 4,
 "nbformat_minor": 5
}
