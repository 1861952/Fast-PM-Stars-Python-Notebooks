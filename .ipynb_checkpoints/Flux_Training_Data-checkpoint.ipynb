{
 "cells": [
  {
   "cell_type": "code",
   "execution_count": 1,
   "id": "a86795d3-6d26-496f-bf3d-c9a92ad7f9d4",
   "metadata": {},
   "outputs": [
    {
     "name": "stdout",
     "output_type": "stream",
     "text": [
      "{'z': 1378943843105872.8, 'Y': 1130225084888449.2, 'i': 2207110039765181.2, 'r': 4191757040355724.0}\n"
     ]
    }
   ],
   "source": [
    "import numpy as np\n",
    "import pandas as pd\n",
    "import scipy.stats as sps\n",
    "from scipy.interpolate import CubicSpline, LinearNDInterpolator, interp1d\n",
    "from astropy.io import fits\n",
    "from astropy.table import Table\n",
    "import matplotlib as mpl\n",
    "mpl.use('Agg')\n",
    "import matplotlib.pyplot as plt\n",
    "%matplotlib inline\n",
    "import qp\n",
    "\n",
    "from pathlib import Path\n",
    "from Functions.convert_file import *\n",
    "from Functions.f_nu_models import *\n",
    "\n",
    "\n",
    "# these things don't change the value because they get cancelled for color (only depends on SED which depends on temperature)\n",
    "R_sun = (1*u.Rsun).cgs.value\n",
    "d = (10*u.pc).cgs.value\n",
    "# F_0 in AB system, which is constant\n",
    "F_0 = (3631.00*u.Jy).cgs.value\n",
    "radial_dist = get_radial_distribution()\n",
    "\n",
    "\n",
    "flux_dict = get_band_flux_dict(\"00\", \"10200\", \"g45\")\n",
    "print(flux_dict)\n",
    "# loop over metallicity, loop over T_eff, and log_g's\n",
    "# Display Fe/H, T_eff, Lg_g, M_j, M_Y, M_z, M_r, M_i\n",
    "# extract metallicities usin \n",
    "\n",
    "   \n",
    "\n",
    "\n",
    "\n"
   ]
  },
  {
   "cell_type": "code",
   "execution_count": 2,
   "id": "9dd1154a-cb5a-40b8-9ef6-2066e3b10e37",
   "metadata": {},
   "outputs": [],
   "source": [
    "def create_dict_phoenix(foldername):\n",
    "    # Get folder\n",
    "    path = Path(foldername)\n",
    "# All_Phoenix_Models/phoenixm00_10200.fits\n",
    "    # create dictionary : key is (T, log(g)) value is 'filename'\n",
    "    file_dict = dict()\n",
    "    for filepath in path.glob(\"phoenix*\"):\n",
    "        filename = filepath.name\n",
    "        fr = filepath.name.removeprefix(\"phoenixm\").removesuffix(\".fits\")\n",
    "        M_H_str, T_eff_str = fr.split(\"_\")\n",
    "        M_H = M_H_str\n",
    "        T_eff = T_eff_str\n",
    "        file_dict.update({(M_H, T_eff): filename})\n",
    "        \n",
    "    # np.unique automatically sorts\n",
    "    M_H_arr = np.unique([M for M, _ in file_dict])\n",
    "    T_eff_arr = np.unique([T for _, T in file_dict])\n",
    "    T_eff_arr = np.asarray(T_eff_arr)\n",
    "    M_H_arr = np.asarray(M_H_arr)\n",
    "    return M_H_arr, T_eff_arr, file_dict\n",
    "\n",
    "M_H_arr, T_eff_arr, file_dict = create_dict_phoenix(\"All_Phoenix_Models\")\n",
    "\n"
   ]
  },
  {
   "cell_type": "code",
   "execution_count": 7,
   "id": "31046d7c-8151-43d1-85ae-dd3c8a3b548e",
   "metadata": {},
   "outputs": [],
   "source": [
    "# M_H_arr = np.asarray([0.0])\n",
    "# T_eff_arr = np.asarray([10000, 10200, 10400, 10600, 10800])\n",
    "M_H_arr = np.asarray([str(4.0)])\n",
    "T_eff_arr = np.asarray([66000])\n",
    "flux_data_dict = {}\n",
    "key_list = []\n",
    "for M_H in M_H_arr:\n",
    "    for T_eff in T_eff_arr:\n",
    "        filename = f'All_Phoenix_Models/phoenixm{M_H.replace(\".\", \"\")}_{T_eff}.fits'\n",
    "        converted_table = convert_fits_to_cm(filename)\n",
    "        log_g_arr = converted_table.dtype.names[1:]\n",
    "        \n",
    "        for log_g in log_g_arr:\n",
    "            flux_dict = get_band_flux_dict(M_H, T_eff, log_g)\n",
    "            key = (M_H, T_eff, log_g)\n",
    "            flux_data_dict[key] = flux_dict\n",
    "            key_list.append(key)\n",
    "            \n",
    "            \n",
    "\n",
    "\n"
   ]
  },
  {
   "cell_type": "code",
   "execution_count": 9,
   "id": "16e29148-67aa-48d8-9658-05cac8ab3e39",
   "metadata": {},
   "outputs": [
    {
     "name": "stdout",
     "output_type": "stream",
     "text": [
      "    M_H  T_eff log_g             z             Y             i             r\n",
      "0   4.0  66000   g00  0.000000e+00  0.000000e+00  0.000000e+00  0.000000e+00\n",
      "1   4.0  66000   g05  0.000000e+00  0.000000e+00  0.000000e+00  0.000000e+00\n",
      "2   4.0  66000   g10  0.000000e+00  0.000000e+00  0.000000e+00  0.000000e+00\n",
      "3   4.0  66000   g15  0.000000e+00  0.000000e+00  0.000000e+00  0.000000e+00\n",
      "4   4.0  66000   g20  0.000000e+00  0.000000e+00  0.000000e+00  0.000000e+00\n",
      "5   4.0  66000   g25  0.000000e+00  0.000000e+00  0.000000e+00  0.000000e+00\n",
      "6   4.0  66000   g30  0.000000e+00  0.000000e+00  0.000000e+00  0.000000e+00\n",
      "7   4.0  66000   g35  0.000000e+00  0.000000e+00  0.000000e+00  0.000000e+00\n",
      "8   4.0  66000   g40  1.549742e+16  1.137902e+16  2.918589e+16  6.346765e+16\n",
      "9   4.0  66000   g45  1.458786e+16  1.069980e+16  2.750600e+16  5.997569e+16\n",
      "10  4.0  66000   g50  0.000000e+00  0.000000e+00  0.000000e+00  0.000000e+00\n",
      "11  4.0  66000   g55  0.000000e+00  0.000000e+00  0.000000e+00  0.000000e+00\n"
     ]
    }
   ],
   "source": [
    "table_data = []\n",
    "\n",
    "# Loop over the flux_data_dict to create rows\n",
    "for key, flux_dict in flux_data_dict.items():\n",
    "    M_H, T_eff, log_g = key\n",
    "    # Merge the key values with the flux_dict values\n",
    "    row = [M_H, T_eff, log_g] + list(flux_dict.values())\n",
    "    table_data.append(row)\n",
    "\n",
    "flux_bands = ['z', 'Y', 'i', 'r']\n",
    "headers = ['M_H', 'T_eff', 'log_g'] + flux_bands\n",
    "\n",
    "df = pd.DataFrame(table_data, columns=headers)\n",
    "\n",
    "\n",
    "print(df)"
   ]
  },
  {
   "cell_type": "code",
   "execution_count": null,
   "id": "6354e4ec-42e9-4d0c-af35-b122707ed697",
   "metadata": {},
   "outputs": [],
   "source": [
    "df.to_csv('training_data.csv', index=False)\n"
   ]
  },
  {
   "cell_type": "code",
   "execution_count": 15,
   "id": "addfd1f5-70c0-42f3-a24d-27f3155508ef",
   "metadata": {},
   "outputs": [
    {
     "data": {
      "text/plain": [
       "FITS_rec([(1.00000000e+01, 0., 0., 0., 0., 0., 0., 0., 0., 6.97649038e-18, 7.98969131e-20, 0., 0.),\n",
       "          (1.00623101e+01, 0., 0., 0., 0., 0., 0., 0., 0., 2.55968914e-17, 1.44436264e-19, 0., 0.),\n",
       "          (1.01250085e+01, 0., 0., 0., 0., 0., 0., 0., 0., 4.41019870e-17, 2.40827052e-19, 0., 0.),\n",
       "          ...,\n",
       "          (9.88354884e+06, 0., 0., 0., 0., 0., 0., 0., 0., 1.09262751e-04, 1.10310008e-04, 0., 0.),\n",
       "          (9.91873886e+06, 0., 0., 0., 0., 0., 0., 0., 0., 1.07721144e-04, 1.08754637e-04, 0., 0.),\n",
       "          (9.95405417e+06, 0., 0., 0., 0., 0., 0., 0., 0., 1.06200964e-04, 1.07221288e-04, 0., 0.)],\n",
       "         dtype=(numpy.record, [('WAVELENGTH', '>f8'), ('g00', '>f8'), ('g05', '>f8'), ('g10', '>f8'), ('g15', '>f8'), ('g20', '>f8'), ('g25', '>f8'), ('g30', '>f8'), ('g35', '>f8'), ('g40', '>f8'), ('g45', '>f8'), ('g50', '>f8'), ('g55', '>f8')]))"
      ]
     },
     "execution_count": 15,
     "metadata": {},
     "output_type": "execute_result"
    }
   ],
   "source": [
    "fits.open('All_Phoenix_Models/phoenixm40_66000.fits')[1].data"
   ]
  },
  {
   "cell_type": "code",
   "execution_count": null,
   "id": "89ab09ec-1409-499a-ba42-915340750d11",
   "metadata": {},
   "outputs": [],
   "source": [
    "# -2.5*np.log10()"
   ]
  }
 ],
 "metadata": {
  "kernelspec": {
   "display_name": "Python 3 (ipykernel)",
   "language": "python",
   "name": "python3"
  },
  "language_info": {
   "codemirror_mode": {
    "name": "ipython",
    "version": 3
   },
   "file_extension": ".py",
   "mimetype": "text/x-python",
   "name": "python",
   "nbconvert_exporter": "python",
   "pygments_lexer": "ipython3",
   "version": "3.11.7"
  }
 },
 "nbformat": 4,
 "nbformat_minor": 5
}
