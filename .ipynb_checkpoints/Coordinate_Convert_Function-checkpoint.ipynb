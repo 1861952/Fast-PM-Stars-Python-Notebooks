{
 "cells": [
  {
   "cell_type": "code",
   "execution_count": 1,
   "id": "c7d3fe01-b4d1-4787-8f08-f2e69ba9607a",
   "metadata": {},
   "outputs": [],
   "source": [
    "import numpy as np\n",
    "import pandas as pd\n",
    "from scipy.stats import norm, powerlaw\n",
    "import matplotlib.pyplot as plt\n",
    "import astropy.units as u\n",
    "from astropy.coordinates import Galactocentric, galactocentric_frame_defaults, ICRS, SkyCoord, Galactic\n",
    "%run Convert-Coordinates.ipynb"
   ]
  },
  {
   "cell_type": "code",
   "execution_count": 2,
   "id": "94e97dd6-50af-42f3-acf6-05b7d6096d95",
   "metadata": {},
   "outputs": [],
   "source": [
    "# CONSTANTS -> REMOVE AFTER TESTING\n",
    "U0 = 11.1 \n",
    "V0 = 12.24\n",
    "W0 = 7.25\n",
    "Theta_0 = 220\n",
    "galcen_params = dict(galcen_v_sun=np.array([U0, V0+Theta_0, W0]) * u.km/u.s, galcen_distance=8*u.kpc)"
   ]
  },
  {
   "cell_type": "markdown",
   "id": "b4ebb7de-dd42-4698-a7c7-05b035cada1a",
   "metadata": {},
   "source": [
    "**convert_vel_to_pm**\n",
    "\n",
    "**Inputs**: Right ascencion and declination (given in equatorial system, spherical coordinates), distance from sun (pc), radial, tangential, and z velocities (galactocentric system, cylindrical coordinates) \n",
    "\n",
    "**Output**: Proper motion and radial velocity (equatorial system)"
   ]
  },
  {
   "cell_type": "code",
   "execution_count": 3,
   "id": "99263e3a-eaf9-4af9-acbb-8c4deae40229",
   "metadata": {},
   "outputs": [],
   "source": [
    "# ra and dec given in equatorial coords. Velocities in galactocentric coords in cylindrical system\n",
    "def convert_vel_to_pm(ra, dec, distance, v_R, v_phi, v_z):\n",
    "    star_eq_coord = SkyCoord(ra=ra*u.deg, dec=dec*u.deg, distance=distance*u.pc, frame=ICRS())\n",
    "    star_galcen_coord = star_eq_coord.transform_to(Galactocentric(**galcen_params))\n",
    "    phi = star_galcen_coord.cylindrical.phi\n",
    "    # v_x, v_y, v_z = f(v_R, v_phi, f_z, phi)\n",
    "    # Original\n",
    "    # v_x = v_R*np.cos(phi) - v_phi*np.sin(phi)\n",
    "    # v_y = v_R*np.sin(phi) + v_phi*np.cos(phi)\n",
    "  \n",
    "    # try pi - phi\n",
    "    v_x = v_R*np.cos(np.pi*u.rad - phi) - v_phi*np.sin(np.pi*u.rad - phi)\n",
    "    v_y = v_R*np.sin(np.pi*u.rad - phi) + v_phi*np.cos(np.pi*u.rad - phi)\n",
    "    # # v_z stays the same\n",
    "    star_galcen_coord_vel = Galactocentric(x=star_galcen_coord.x, y=star_galcen_coord.y, z=star_galcen_coord.z, v_x=v_x*u.km/u.s, v_y=v_y*u.km/u.s, v_z=v_z*u.km/u.s, **galcen_params)\n",
    "    # print(star_galcen_coord_vel)\n",
    "    star_eq_coord_vel = star_galcen_coord_vel.transform_to(ICRS())\n",
    "    return star_eq_coord_vel"
   ]
  },
  {
   "cell_type": "code",
   "execution_count": 4,
   "id": "996ad603-0e07-4723-b041-c9941ac21586",
   "metadata": {},
   "outputs": [],
   "source": [
    "# Cartesian to Cylindrical Velocities\n",
    "def v_xyz_to_cyl(x, y, z, v_x, v_y, v_z):\n",
    "    v_r = (x*v_x + y*v_y) / np.sqrt(x**2 + y**2)\n",
    "    v_phi = (-y*v_x + x*v_y) / np.sqrt(x**2 + y**2)\n",
    "    print(\"Sun's cylindrical velocities: \", v_r, v_phi, v_z)\n",
    "    return v_r, v_phi, v_z\n",
    "\n",
    "# Cylindrical to Cartesian Velocities\n",
    "def v_cyl_to_xyz(v_r, v_phi, v_z, phi):\n",
    "    v_x = -v_r*np.cos(phi) - v_phi*np.sin(phi)\n",
    "    v_y = v_r*np.sin(phi) - v_phi*np.cos(phi)\n",
    "    print(\"Sun's xyz velocities: \", v_x, v_y, v_z)\n",
    "    return v_x, v_y, v_z"
   ]
  },
  {
   "cell_type": "code",
   "execution_count": 5,
   "id": "cb60dd3e-afa5-45df-aa4e-756f0a5890ae",
   "metadata": {},
   "outputs": [],
   "source": [
    "def find_pm(pm_ra_cosdec, pm_dec):\n",
    "    return np.sqrt(pm_ra_cosdec**2 + pm_dec**2)"
   ]
  },
  {
   "cell_type": "code",
   "execution_count": 26,
   "id": "a54f343f-891b-403e-9954-a750ea076e25",
   "metadata": {},
   "outputs": [
    {
     "name": "stdout",
     "output_type": "stream",
     "text": [
      "phi 180d00m00s\n",
      "<Galactocentric Coordinate (galcen_coord=<ICRS Coordinate: (ra, dec) in deg\n",
      "    (266.4051, -28.936175)>, galcen_distance=8.0 kpc, galcen_v_sun=(11.1, 232.24, 7.25) km / s, z_sun=20.8 pc, roll=0.0 deg): (x, y, z) in pc\n",
      "    (-7999.97295995, 0., 20.8)\n",
      " (v_x, v_y, v_z) in km / s\n",
      "    (16.5, 0.8061, 7.25)>\n",
      "star3 <ICRS Coordinate: (ra, dec, distance) in (deg, deg, pc)\n",
      "    (86.42366563, 26.52040218, 1.01843357e-12)\n",
      " (pm_ra_cosdec, pm_dec, radial_velocity) in (mas / yr, mas / yr, km / s)\n",
      "    (2.49731125e+16, -4.09291358e+16, 2.96582227)>\n"
     ]
    }
   ],
   "source": [
    "# CODE TO TEST CONVERSION FUNCTIONS\n",
    "# converted sun's velocities to cylindrical velocities\n",
    "# say starting coordinate is (10, 10, 10) = (x,y,z)\n",
    "x = 10 * u.parsec\n",
    "y = 10 * u.parsec\n",
    "z = 10 * u.parsec\n",
    "# Use instead of arctan so sign info gets preserved, also takes care of case that x=0\n",
    "phi = np.arctan2(y, x)\n",
    "x = x.to(u.km)\n",
    "y = y.to(u.km)\n",
    "z = z.to(u.km)\n",
    "\n",
    "\n",
    "v_x_sun = U0 * u.km/u.second\n",
    "v_y_sun = (V0 + Theta_0) * u.km/u.second\n",
    "v_z_sun = W0 * u.km/u.second\n",
    "  \n",
    "# v_r_sun, v_phi_sun, v_z_sun = v_xyz_to_cyl(x, y, z, v_x_sun, v_y_sun, v_z_sun)\n",
    "\n",
    "\n",
    "# v_x1, v_y1, v_z1 = v_cyl_to_xyz(v_r_sun, v_phi_sun, v_z_sun, phi)\n",
    "# print(\"Check by converting back to xyz: \", v_x1, v_y1, v_z1)\n",
    "# print(\"Angle is: \", np.rad2deg(np.arctan(y/x)))\n",
    "\n",
    "# ra, dec, phi, distance, v_R, v_phi, v_z\n",
    "star3 = convert_vel_to_pm(ra=0, dec=0, distance=0, v_R=16.5, v_phi=0.8061, v_z=7.25)\n",
    "print(\"star3\", star3)"
   ]
  },
  {
   "cell_type": "code",
   "execution_count": 3,
   "id": "f5a230d4-d656-4f8f-9003-7fa1993833c3",
   "metadata": {
    "scrolled": true
   },
   "outputs": [
    {
     "ename": "NameError",
     "evalue": "name 'SkyCoord' is not defined",
     "output_type": "error",
     "traceback": [
      "\u001b[1;31m---------------------------------------------------------------------------\u001b[0m",
      "\u001b[1;31mNameError\u001b[0m                                 Traceback (most recent call last)",
      "Cell \u001b[1;32mIn[3], line 2\u001b[0m\n\u001b[0;32m      1\u001b[0m \u001b[38;5;66;03m# galactic coordinate system is centered around sun\u001b[39;00m\n\u001b[1;32m----> 2\u001b[0m galactic_coord \u001b[38;5;241m=\u001b[39m SkyCoord(l\u001b[38;5;241m=\u001b[39m\u001b[38;5;241m0\u001b[39m\u001b[38;5;241m*\u001b[39mu\u001b[38;5;241m.\u001b[39mdeg, b\u001b[38;5;241m=\u001b[39m\u001b[38;5;241m90\u001b[39m\u001b[38;5;241m*\u001b[39mu\u001b[38;5;241m.\u001b[39mdeg, frame\u001b[38;5;241m=\u001b[39m\u001b[38;5;124m\"\u001b[39m\u001b[38;5;124mgalactic\u001b[39m\u001b[38;5;124m\"\u001b[39m)\n\u001b[0;32m      4\u001b[0m equatorial_coord \u001b[38;5;241m=\u001b[39m galactic_coord\u001b[38;5;241m.\u001b[39micrs\n\u001b[0;32m      5\u001b[0m eq_ra \u001b[38;5;241m=\u001b[39m equatorial_coord\u001b[38;5;241m.\u001b[39mra\u001b[38;5;241m.\u001b[39mdeg\n",
      "\u001b[1;31mNameError\u001b[0m: name 'SkyCoord' is not defined"
     ]
    }
   ],
   "source": [
    "# galactic coordinate system is centered around sun\n",
    "galactic_coord = SkyCoord(l=0*u.deg, b=90*u.deg, frame=\"galactic\")\n",
    "\n",
    "equatorial_coord = galactic_coord.icrs\n",
    "eq_ra = equatorial_coord.ra.deg\n",
    "eq_dec = equatorial_coord.dec.deg\n",
    "# print(eq_ra, eq_dec)\n",
    "# STAR MOVING PARALLEL TO SUN\n",
    "star4 = convert_vel_to_pm(ra=eq_ra, dec=eq_dec, distance=100, v_R=U0, v_phi=V0+Theta_0, v_z=W0)\n",
    "print(star4)\n",
    "print(star4.transform_to(Galactic()))"
   ]
  },
  {
   "cell_type": "code",
   "execution_count": 8,
   "id": "c3cec012-5993-40db-9e9f-bcdc0d3a636d",
   "metadata": {},
   "outputs": [
    {
     "name": "stdout",
     "output_type": "stream",
     "text": [
      "-2.489252928592177e-06 km / s\n"
     ]
    }
   ],
   "source": [
    "print((star4.pm_dec * 100*u.pc / u.rad).to(u.km/u.s))"
   ]
  },
  {
   "cell_type": "code",
   "execution_count": 9,
   "id": "ee963c8c-b172-4888-8970-8710f94b4229",
   "metadata": {},
   "outputs": [
    {
     "name": "stdout",
     "output_type": "stream",
     "text": [
      "phi -179d59m59.99757127s\n",
      "<Galactocentric Coordinate (galcen_coord=<ICRS Coordinate: (ra, dec) in deg\n",
      "    (266.4051, -28.936175)>, galcen_distance=8.0 kpc, galcen_v_sun=(11.1, 232.24, 7.25) km / s, z_sun=20.8 pc, roll=0.0 deg): (x, y, z) in pc\n",
      "    (-7899.97329758, -9.30206483e-05, 20.54014313)\n",
      " (v_x, v_y, v_z) in km / s\n",
      "    (11.1, -1.3070034e-07, 7.25)>\n",
      "<Galactic Coordinate: (l, b, distance) in (deg, deg, pc)\n",
      "    (0., 5.08888749e-14, 100.)\n",
      " (pm_l_cosb, pm_b, radial_velocity) in (mas / yr, mas / yr, km / s)\n",
      "    (-489.90918078, 0.0007196, 0.00021603)>\n"
     ]
    }
   ],
   "source": [
    "# Do v_phi=0\n",
    "galactic_coord = SkyCoord(l=0*u.deg, b=0*u.deg, frame=\"galactic\")\n",
    "\n",
    "equatorial_coord = galactic_coord.icrs\n",
    "eq_ra = equatorial_coord.ra.deg\n",
    "eq_dec = equatorial_coord.dec.deg\n",
    "star5 = convert_vel_to_pm(ra=eq_ra, dec=eq_dec, distance=100, v_R=U0, v_phi=0, v_z=W0)\n",
    "# print(star5)\n",
    "print(star5.transform_to(Galactic()))"
   ]
  },
  {
   "cell_type": "code",
   "execution_count": null,
   "id": "72cfcd56-14bb-4e5d-aeac-e1b8fd923e7f",
   "metadata": {},
   "outputs": [],
   "source": []
  }
 ],
 "metadata": {
  "kernelspec": {
   "display_name": "Python 3 (ipykernel)",
   "language": "python",
   "name": "python3"
  },
  "language_info": {
   "codemirror_mode": {
    "name": "ipython",
    "version": 3
   },
   "file_extension": ".py",
   "mimetype": "text/x-python",
   "name": "python",
   "nbconvert_exporter": "python",
   "pygments_lexer": "ipython3",
   "version": "3.11.7"
  }
 },
 "nbformat": 4,
 "nbformat_minor": 5
}
