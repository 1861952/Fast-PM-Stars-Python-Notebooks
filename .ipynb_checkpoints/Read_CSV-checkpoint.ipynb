{
 "cells": [
  {
   "cell_type": "code",
   "execution_count": 57,
   "id": "54982322-2349-45c8-abd7-5bd77f8945c3",
   "metadata": {},
   "outputs": [],
   "source": [
    "import numpy as np\n",
    "import pandas as pd\n",
    "import scipy.stats as sps\n",
    "from scipy.interpolate import CubicSpline, LinearNDInterpolator, interp1d, NearestNDInterpolator\n",
    "from sklearn.model_selection import train_test_split\n",
    "from sklearn.ensemble import RandomForestRegressor\n",
    "from sklearn.metrics import mean_squared_error\n",
    "from sklearn.preprocessing import StandardScaler\n",
    "from sklearn.linear_model import Ridge\n",
    "from sklearn.neural_network import MLPRegressor\n",
    "\n",
    "df = pd.read_csv(\"training_data.csv\")\n",
    "df = df.query(\"z != 0 or Y != 0 or i != 0 or r != 0\") \n",
    "df['log_g'] = df['log_g'].str[1:].astype('float')\n",
    "df['M_H'] = df['M_H']*(-0.1)\n",
    "x = df[['M_H', 'T_eff', 'log_g']].to_numpy()\n",
    "y = df[['z', 'Y', 'i', 'r']].to_numpy()\n",
    "y = -2.5*np.log10(y)\n",
    "x_train, x_test, y_train, y_test = train_test_split(x, y, test_size=0.25, random_state=42)"
   ]
  },
  {
   "cell_type": "code",
   "execution_count": 11,
   "id": "47693a6b-1eb4-48e4-9ae9-305aeea1fa98",
   "metadata": {},
   "outputs": [
    {
     "data": {
      "text/plain": [
       "0.09936206391604482"
      ]
     },
     "execution_count": 11,
     "metadata": {},
     "output_type": "execute_result"
    }
   ],
   "source": [
    "mag_spline_nearest = NearestNDInterpolator(x=x_train, y=y_train,rescale=True)\n",
    "mean_squared_error(y_test, mag_spline_nearest(x_test))"
   ]
  },
  {
   "cell_type": "code",
   "execution_count": 13,
   "id": "7d4743c2-6a5d-47be-99f3-ae3418c2ef02",
   "metadata": {},
   "outputs": [
    {
     "data": {
      "text/plain": [
       "0.11493798388794618"
      ]
     },
     "execution_count": 13,
     "metadata": {},
     "output_type": "execute_result"
    }
   ],
   "source": [
    "mag_spline_linear = LinearNDInterpolator(x_train, y_train, fill_value=np.mean(y_train), rescale=True)\n",
    "mean_squared_error(y_test, mag_spline_linear(x_test))\n"
   ]
  },
  {
   "cell_type": "code",
   "execution_count": 15,
   "id": "c5ab4f39-3403-49ee-adf6-ca68ee132b88",
   "metadata": {},
   "outputs": [
    {
     "data": {
      "text/plain": [
       "0.06154014153644487"
      ]
     },
     "execution_count": 15,
     "metadata": {},
     "output_type": "execute_result"
    }
   ],
   "source": [
    "mag_RF = RandomForestRegressor(random_state=43).fit(x_train, y_train)\n",
    "mean_squared_error(y_test, mag_RF.predict(x_test))"
   ]
  },
  {
   "cell_type": "code",
   "execution_count": 17,
   "id": "62fac2a6-926e-44e0-8141-28a47bce635a",
   "metadata": {},
   "outputs": [],
   "source": [
    "x_scaler = StandardScaler().fit(x_train)\n",
    "y_scaler = StandardScaler().fit(y_train)\n",
    "scaled_x_train, scaled_y_train = x_scaler.transform(x_train), y_scaler.transform(y_train)\n",
    "scaled_x_test, scaled_y_test = x_scaler.transform(x_test), y_scaler.transform(y_test)\n",
    "\n",
    "\n",
    "# 2D plot of squared errors for each point?\n",
    "# try other model\n",
    "# Plot y-predicted over y-true for all 4 passbands"
   ]
  },
  {
   "cell_type": "code",
   "execution_count": 81,
   "id": "6367f938-17ad-4fbd-9039-57e1396ec50a",
   "metadata": {},
   "outputs": [
    {
     "name": "stdout",
     "output_type": "stream",
     "text": [
      "0.4082484166402428\n",
      "2.7483560434876946\n"
     ]
    }
   ],
   "source": [
    "clf = Ridge(alpha=1.0).fit(scaled_x_train, scaled_y_train)\n",
    "print(mean_squared_error(scaled_y_test, clf.predict(scaled_x_test)))\n",
    "print(mean_squared_error(y_test, y_scaler.inverse_transform(clf.predict(scaled_x_test))))"
   ]
  },
  {
   "cell_type": "code",
   "execution_count": 73,
   "id": "36e78e9c-2e07-423f-933d-16c84acea07c",
   "metadata": {},
   "outputs": [
    {
     "data": {
      "text/plain": [
       "0.08174931865959634"
      ]
     },
     "execution_count": 73,
     "metadata": {},
     "output_type": "execute_result"
    }
   ],
   "source": [
    "regr = MLPRegressor(random_state=32)\n",
    "regr.fit(scaled_x_train, scaled_y_train)\n",
    "regr.predict(scaled_x_test)\n",
    "# return coefficient of determination of the prediction\n",
    "regr.score(scaled_x_test, scaled_y_test)\n",
    "mean_squared_error(y_test, y_scaler.inverse_transform(regr.predict(scaled_x_test)))\n",
    "\n",
    "# make plots for diff models magnitudes as function of M_J, also do for flux to absolute magnitude and experiment with hyperparameters"
   ]
  }
 ],
 "metadata": {
  "kernelspec": {
   "display_name": "Python 3 (ipykernel)",
   "language": "python",
   "name": "python3"
  },
  "language_info": {
   "codemirror_mode": {
    "name": "ipython",
    "version": 3
   },
   "file_extension": ".py",
   "mimetype": "text/x-python",
   "name": "python",
   "nbconvert_exporter": "python",
   "pygments_lexer": "ipython3",
   "version": "3.11.7"
  }
 },
 "nbformat": 4,
 "nbformat_minor": 5
}
