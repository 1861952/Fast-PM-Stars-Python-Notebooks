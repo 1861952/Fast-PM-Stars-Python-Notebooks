{
 "cells": [
  {
   "cell_type": "code",
   "execution_count": 1,
   "id": "19c2e7fc-fe9d-4fc8-bd6b-ace5539812e0",
   "metadata": {},
   "outputs": [],
   "source": [
    "# Run Notebook that contains neccessary functions\n",
    "%run convert_file.ipynb\n",
    "%run f_nu_models.ipynb\n"
   ]
  },
  {
   "cell_type": "markdown",
   "id": "8ad11dfc-2d3e-4616-8689-d19e7c3deca7",
   "metadata": {},
   "source": [
    "# Constants #"
   ]
  },
  {
   "cell_type": "code",
   "execution_count": 9,
   "id": "a1ed30d5-3ec7-45fc-9540-8885ff813ea5",
   "metadata": {},
   "outputs": [],
   "source": [
    "# these things don't change the value because they get cancelled for color (only depends on SED which depends on temperature)\n",
    "R = (0.185*u.Rsun).cgs.value\n",
    "d = (10*u.pc).cgs.value\n",
    "# F_0 in AB system, which is constant\n",
    "F_0 = (3631.00*u.Jy).cgs.value\n",
    "\n"
   ]
  },
  {
   "cell_type": "code",
   "execution_count": 11,
   "id": "cbee8c30-bf58-4853-87e5-ca7612722068",
   "metadata": {},
   "outputs": [
    {
     "name": "stdout",
     "output_type": "stream",
     "text": [
      "0.24159342847563714\n"
     ]
    }
   ],
   "source": [
    "# Read in Z and Y passband files\n",
    "wavelengths_Z, transmission_Z = ascii_to_array('CTIO/CTIO_DECam-z.txt')\n",
    "wavelengths_Y, transmission_Y = ascii_to_array('CTIO/CTIO_DECam.Y.txt')\n",
    "\n",
    "# Get surface flux from spline\n",
    "# f_nu_table = fits_to_spline('https://archive.stsci.edu/hlsps/reference-atlases/cdbs/grid/phoenix/phoenixm00/phoenixm00_3000.fits', 'g50')\n",
    "f_nu_table = fits_to_spline('https://archive.stsci.edu/hlsps/reference-atlases/cdbs/grid/phoenix/phoenixm00/phoenixm00_2800.fits', 'g50')\n",
    "\n",
    "\n",
    "f_nu_Z = passband_flux(f_nu_table(wavelengths_Z.cgs.value), transmission_Z, wavelengths_Z)\n",
    "f_nu_Y = passband_flux(f_nu_table(wavelengths_Y.cgs.value), transmission_Y, wavelengths_Y)\n",
    "\n",
    "m_z = get_and_compare_mag(f_nu_Z, R, d, F_0)\n",
    "m_y = get_and_compare_mag(f_nu_Y, R, d, F_0)\n",
    "\n",
    "print(m_z-m_y)\n"
   ]
  },
  {
   "cell_type": "code",
   "execution_count": null,
   "id": "349233a7-d352-462c-87b4-3b33377346c8",
   "metadata": {},
   "outputs": [],
   "source": [
    "0.24159342847563714\n"
   ]
  }
 ],
 "metadata": {
  "kernelspec": {
   "display_name": "Python 3 (ipykernel)",
   "language": "python",
   "name": "python3"
  },
  "language_info": {
   "codemirror_mode": {
    "name": "ipython",
    "version": 3
   },
   "file_extension": ".py",
   "mimetype": "text/x-python",
   "name": "python",
   "nbconvert_exporter": "python",
   "pygments_lexer": "ipython3",
   "version": "3.11.7"
  }
 },
 "nbformat": 4,
 "nbformat_minor": 5
}
