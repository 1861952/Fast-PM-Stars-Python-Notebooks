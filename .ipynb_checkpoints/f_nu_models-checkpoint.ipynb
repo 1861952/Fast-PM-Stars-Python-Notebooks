{
 "cells": [
  {
   "cell_type": "code",
   "execution_count": 1,
   "id": "d9ea0e68-9b6c-4e72-bc93-041053e187cc",
   "metadata": {},
   "outputs": [],
   "source": [
    "import numpy as np\n",
    "import pandas as pd\n",
    "\n",
    "from astropy.io import fits\n",
    "from astropy import units as u\n",
    "from astropy import constants as const\n",
    "import matplotlib.pyplot as plt\n",
    "from scipy.interpolate import InterpolatedUnivariateSpline\n",
    "\n",
    "from scipy import integrate\n",
    "# \n",
    "# Blackbody imports \n",
    "from astropy.modeling.models import BlackBody\n",
    "from astropy.visualization import quantity_support"
   ]
  },
  {
   "cell_type": "code",
   "execution_count": 2,
   "id": "fc746dff-3c5e-4f2b-a053-ae1ad214c87b",
   "metadata": {},
   "outputs": [],
   "source": [
    "pi = np.pi"
   ]
  },
  {
   "cell_type": "markdown",
   "id": "bb2dc03a-ad56-476d-b95c-e566376c336c",
   "metadata": {},
   "source": [
    "# Functions for making f_lambda spline from Phoenix model #"
   ]
  },
  {
   "cell_type": "code",
   "execution_count": 4,
   "id": "38bde34c-8d99-489e-9a2c-bebeecdb3d39",
   "metadata": {},
   "outputs": [],
   "source": [
    "# f_lambda function using table\n",
    "def f_lambda_func(wavelength_array):\n",
    "    # Use 1e8 instead of 10**8 for non-integers\n",
    "    return (f_lambda*1e8)*(wavelength_array*1e-8)**2/(const.c.cgs.value)\n",
    "    \n",
    "# Spline with f_lambda Phoenix Model\n",
    "def spline_lambda(f_lambda_table, wavelengthArr, k=1):\n",
    "    # convert from Angstrom to cm\n",
    "    wavelengthArr_cm = 1e-8*wavelengthArr\n",
    "    f_lambda_table_per_cm = f_lambda_table*1e8    \n",
    "    return InterpolatedUnivariateSpline(wavelengthArr_cm, f_lambda_table_per_cm*wavelengthArr_cm**2/const.c.cgs.value, k=k)\n",
    "\n",
    "# F_nu function(with f_nu as function of wavelength, transmission, over normal integral)\n",
    "def passband_flux(flux, transmissionArr, wavelengthsArr):\n",
    "    int_n = integrate.trapezoid(flux*transmissionArr/wavelengthsArr.cgs.value, x=wavelengthsArr.cgs.value)\n",
    "    int_d = integrate.trapezoid(transmissionArr/wavelengthsArr.cgs.value, x=wavelengthsArr.cgs.value)\n",
    "    return int_n/int_d\n",
    "\n",
    "    \n"
   ]
  },
  {
   "cell_type": "code",
   "execution_count": 5,
   "id": "388e182c-46ea-45bb-9bba-d780300100e5",
   "metadata": {},
   "outputs": [],
   "source": [
    "# Returns and compares absolute magnitude against given \"actual\" magnitude, \n",
    "# f_nu (surface flux), R (radius of star), d (distance from observer to star), and F_0 (zero-point flux)\n",
    "\n",
    "def get_and_compare_mag(f_nu, R, d, F_0, actual_mag=None):\n",
    "    if actual_mag is None:\n",
    "        F_M = (f_nu * 4*pi*R**2)/(4*pi*d**2)\n",
    "        # Absolute magnitude\n",
    "        M = -2.5 * np.log10(F_M/F_0)\n",
    "        return M\n",
    "\n",
    "    else:\n",
    "        # F_M = (f_nu * 4*pi*R**2)/(4*pi*d**2)\n",
    "        # Absolute magnitude\n",
    "        M = -2.5 * np.log10(F_M/F_0)\n",
    "        print(f\"Calculated: {M}, Actual: {actual_mag}\")\n",
    "        return M"
   ]
  }
 ],
 "metadata": {
  "kernelspec": {
   "display_name": "Python 3 (ipykernel)",
   "language": "python",
   "name": "python3"
  },
  "language_info": {
   "codemirror_mode": {
    "name": "ipython",
    "version": 3
   },
   "file_extension": ".py",
   "mimetype": "text/x-python",
   "name": "python",
   "nbconvert_exporter": "python",
   "pygments_lexer": "ipython3",
   "version": "3.11.7"
  }
 },
 "nbformat": 4,
 "nbformat_minor": 5
}
