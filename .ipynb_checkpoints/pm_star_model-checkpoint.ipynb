{
 "cells": [
  {
   "cell_type": "code",
   "execution_count": 10,
   "id": "17e50cbf-985a-4918-b078-d79d9bda3af8",
   "metadata": {},
   "outputs": [
    {
     "name": "stdout",
     "output_type": "stream",
     "text": [
      "Star moving parallel to sun test passed\n",
      "Star at equator with v_phi=0 test passed\n"
     ]
    }
   ],
   "source": [
    "import numpy as np\n",
    "import pandas as pd\n",
    "from scipy.stats import norm, powerlaw\n",
    "import matplotlib.pyplot as plt\n",
    "import astropy.units as u\n",
    "from astropy.coordinates import Galactocentric, galactocentric_frame_defaults, ICRS, SkyCoord\n",
    "from Functions.PM_functions import *\n",
    "from Functions.PM_tests import *\n",
    "# %run Coordinate_Convert_Function.ipynb"
   ]
  },
  {
   "cell_type": "code",
   "execution_count": null,
   "id": "b9532f48-5204-428a-b00f-8efd41abd9e1",
   "metadata": {},
   "outputs": [],
   "source": [
    "# Probability distribution function from paper\n",
    "def P(v_phi, SD_phi, constant, b_0):\n",
    "    return constant * math.exp(v_phi*b_0)**2 / (2*SD_phi**2)\n",
    "\n",
    "def SD(v_phi, b_arr):\n",
    "    return b_arr[1] + b_arr[2]*v_phi/100 + b_arr[3]*(v_phi/100)**2 + b_arr[4]*(v_phi/100)**3\n",
    "    "
   ]
  },
  {
   "cell_type": "code",
   "execution_count": null,
   "id": "02ad6c58-0956-4425-973e-04156d44ad2f",
   "metadata": {},
   "outputs": [],
   "source": [
    "seed_val = 3\n",
    "rng = np.random.default_rng(seed_val)\n",
    "\n",
    "# (U0, V0, W0,) = (11.1, 12.24, 7.25) km/s\n",
    "U0 = 11.1\n",
    "V0 = 12.24\n",
    "W0 = 7.25\n",
    "\n",
    "Theta_0 = 220 #km/s\n",
    "v_phi_sun = Theta_0 + 12.24 # km/s\n",
    "\n",
    "a0 = 0.587\n",
    "a1 = 1.153\n",
    "a5 = 0.711\n",
    "b_list = [224.9, 69.5, -44.33, 10.68, -0.73] \n",
    "\n",
    "mean_v_phi = 220.1\n",
    "mean_v_R = 0\n",
    "mean_v_z = 0\n",
    "\n",
    "SD_R = 30*a1 # km/s\n",
    "SD_Z = 30*a5 #km/s\n",
    "SD_phi = SD(mean_v_phi, b_list)\n",
    "\n",
    "sample_size = 100000\n",
    "\n",
    "galcen_params = dict(galcen_v_sun=np.array([U0, Theta_0 + V0, W0]) * u.km/u.s, galcen_distance=8*u.kpc)\n",
    "\n",
    "# sample ra (deg) and dec (deg) -> uniform, distance (pc) -> power law\n",
    "# right ascension \n",
    "ra = rng.uniform(0, 360, sample_size)\n",
    "# declination\n",
    "# sin -1 to 1 -> test histograms of ra and dec independently\n",
    "sin_dec = rng.uniform(-1, 1, sample_size)\n",
    "dec = np.rad2deg(np.arcsin(sin_dec))\n",
    "\n",
    "# distance\n",
    "a = 3\n",
    "max_radius = 2000\n",
    "# TODO: MAKE DISTANCE DISTRIBUTION might want to change later?\n",
    "\n",
    "# distance = 100\n",
    "radial_dist = powerlaw(a, scale=max_radius)\n",
    "distance = radial_dist.rvs(size=sample_size, random_state=rng)\n",
    "\n",
    "# Making Distributions\n",
    "# --------------------------------------------------------------------------------------------------------------------\n",
    "v_R_dist = norm(loc=mean_v_R, scale=SD_R)\n",
    "v_phi_dist = norm(loc=mean_v_phi, scale=SD_phi)\n",
    "v_z_dist = norm(loc=mean_v_z, scale=SD_Z)\n",
    "    \n",
    "v_R = v_R_dist.rvs(size=sample_size, random_state=rng)\n",
    "v_phi = v_phi_dist.rvs(size=sample_size, random_state=rng)\n",
    "v_z = v_R_dist.rvs(size=sample_size, random_state=rng)\n",
    "plt.hist(distance, density=True,bins='auto', histtype='stepfilled', alpha=0.2)\n",
    "\n"
   ]
  },
  {
   "cell_type": "code",
   "execution_count": null,
   "id": "182ab690-5042-4513-adf2-7b1c9a3dae0f",
   "metadata": {
    "scrolled": true
   },
   "outputs": [],
   "source": [
    "\n",
    "fig, ax = plt.subplots(3)\n",
    "fig.suptitle(\"RA, sin(DEC), and DEC Distributions\")\n",
    "ax[0].hist(ra, density=True, bins='auto', histtype='stepfilled', alpha=0.2)\n",
    "ax[0].set_xlabel(\"Right Acension (degrees)\")\n",
    "ax[1].hist(sin_dec, density=True, bins='auto', histtype='stepfilled', alpha=0.2)\n",
    "ax[1].set_xlabel(\"sin(DEC)\")\n",
    "ax[2].hist(dec, density=True, bins='auto', histtype='stepfilled', alpha=0.2)\n",
    "ax[2].set_xlabel(\"Declination (degrees)\")\n",
    "fig.tight_layout()\n",
    "plt.show()\n"
   ]
  },
  {
   "cell_type": "code",
   "execution_count": null,
   "id": "fd01e7b6-7cd2-4b32-9133-4950e4306214",
   "metadata": {},
   "outputs": [],
   "source": [
    "# Sample pm in mas/yr\n",
    "galactic_data_list = convert_vel_to_pm(ra=ra, dec=dec, distance=distance, v_R=v_R, v_phi=v_phi, v_z=v_z).transform_to(Galactic())\n",
    "# pm_ra = icrs_data_list.pm_ra_cosdec\n",
    "# pm_dec = icrs_data_list.pm_dec\n",
    "\n",
    "\n",
    "# v = distance (pc -> km) * pm (arcsec/year -> sec)\n",
    "# v_ra = (distance*u.pc).to(u.km)*(pm_ra.to(u.rad/u.s))/u.rad\n",
    "# v_dec = (distance*u.pc).to(u.km)*(pm_dec.to(u.rad/u.s))/u.rad\n",
    "# v_radial_eq = (icrs_data_list.radial_velocity).to(u.km/u.s)\n",
    "\n",
    "# pm_l_cosb, pm_b, radial_velocity\n",
    "pm_l = galactic_data_list.pm_l_cosb\n",
    "pm_b = galactic_data_list.pm_b \n",
    "\n",
    "v_l = (distance*u.pc).to(u.km)*(pm_l.to(u.rad/u.s))/u.rad\n",
    "v_b = (distance*u.pc).to(u.km)*(pm_b.to(u.rad/u.s))/u.rad\n",
    "v_radial_eq = (galactic_data_list.radial_velocity).to(u.km/u.s)\n",
    "\n",
    "fig, ax = plt.subplots(3)\n",
    "fig.suptitle(\"$v_{l}$, $v_{b}$, and $v_{radial eq}$\")\n",
    "ax[0].hist(v_l, density=True, bins='auto', histtype='stepfilled', alpha=0.2)\n",
    "ax[0].set_xlabel(\"$v_{l}$ [km/s]\")\n",
    "ax[1].hist(v_b, density=True, bins='auto', histtype='stepfilled', alpha=0.2)\n",
    "ax[1].set_xlabel(\"$v_{b}$ [km/s]\")\n",
    "ax[2].hist(v_radial_eq, density=True, bins='auto', histtype='stepfilled', alpha=0.2)\n",
    "ax[2].set_xlabel(\"$v_{radial eq}$ [km/s]\")\n",
    "ax[1].vlines(-W0, *ax[1].get_ylim())\n",
    "fig.tight_layout()\n",
    "plt.show()"
   ]
  },
  {
   "cell_type": "code",
   "execution_count": null,
   "id": "b1541854-6913-4f99-9006-22d1fb20915f",
   "metadata": {},
   "outputs": [],
   "source": [
    "pm = np.sqrt(pm_l.value**2 + pm_b.value**2)\n",
    "# pm_neg = -np.sqrt(pm_l.value**2 + pm_b.value**2)\n",
    "# pm = np.append(pm_neg, pm_pos)\n",
    "plt.hist(pm, density=True, bins='auto', histtype='bar')\n",
    "plt.xlabel(\"Proper Motion [mas/yr]\")\n",
    "plt.yscale(\"log\")\n",
    "plt.title(\"Proper Motion Distribution\")\n",
    "plt.show()\n",
    "pm.size\n",
    "print(np.max(pm))"
   ]
  },
  {
   "cell_type": "code",
   "execution_count": null,
   "id": "fffa336b-4520-44d2-b4cd-03060c1e9313",
   "metadata": {},
   "outputs": [],
   "source": [
    "plt.hist(pm_l, density=True, bins='auto', histtype='stepfilled', alpha=0.2)\n",
    "plt.hist(pm_b, density=True, bins='auto', histtype='stepfilled', alpha=0.2)\n"
   ]
  },
  {
   "cell_type": "code",
   "execution_count": null,
   "id": "43d46d43-f839-4f46-9455-a83f1b500dd0",
   "metadata": {},
   "outputs": [],
   "source": []
  }
 ],
 "metadata": {
  "kernelspec": {
   "display_name": "Python 3 (ipykernel)",
   "language": "python",
   "name": "python3"
  },
  "language_info": {
   "codemirror_mode": {
    "name": "ipython",
    "version": 3
   },
   "file_extension": ".py",
   "mimetype": "text/x-python",
   "name": "python",
   "nbconvert_exporter": "python",
   "pygments_lexer": "ipython3",
   "version": "3.11.7"
  }
 },
 "nbformat": 4,
 "nbformat_minor": 5
}
