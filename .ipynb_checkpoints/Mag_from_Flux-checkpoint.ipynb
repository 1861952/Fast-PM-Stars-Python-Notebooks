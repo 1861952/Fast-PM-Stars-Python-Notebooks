{
 "cells": [
  {
   "cell_type": "code",
   "execution_count": 1,
   "id": "9b7dadf8-fb5f-44b5-816d-7f4be1ab5c39",
   "metadata": {},
   "outputs": [
    {
     "name": "stdout",
     "output_type": "stream",
     "text": [
      "4.880106554377236\n"
     ]
    }
   ],
   "source": [
    "import numpy as np\n",
    "from astropy.io import fits\n",
    "from astropy.table import Table\n",
    "from astropy import constants as const\n",
    "import matplotlib.pyplot as plt\n",
    "from scipy.interpolate import InterpolatedUnivariateSpline\n",
    "\n",
    "\n",
    "from astropy import units as u\n",
    "from scipy import integrate\n",
    "import pandas as pd\n",
    "# Blackbody imports \n",
    "from astropy.modeling.models import BlackBody\n",
    "from astropy import units as u\n",
    "from astropy.visualization import quantity_support\n",
    "\n",
    "full_wav = np.arange(1000, 110000) * u.AA\n",
    "\n",
    "data = pd.read_csv('CTIO_ANDICAM.V_KPNO.txt', sep=' ', header=None, names=['Wavelength', 'Transmission'])\n",
    "\n",
    "\n",
    "# wavelength in Angstrom\n",
    "wavelengths = data['Wavelength'].to_numpy()*u.AA\n",
    "# Probability of photon going through\n",
    "transmission = data['Transmission'].to_numpy()\n",
    "\n",
    "\n",
    "pi = np.pi\n",
    "# Flux for zero-point (Vega system)\n",
    "F_m = (3640.33*u.Jy).cgs.value\n",
    "# lambda ref in Angstroms\n",
    "lambda_ref = 5443.85*u.AA\n",
    "# R = (0.130 * u.Rsun).cgs.value\n",
    "# Using radius of sun\n",
    "R = (1*u.Rsun).cgs.value\n",
    "d = (10*u.pc).cgs.value\n",
    "\n",
    "norm_integral = integrate.trapezoid(transmission/wavelengths.cgs.value, x=wavelengths.cgs.value)\n",
    "\n",
    "T = 5772*u.K\n",
    "bb = BlackBody(temperature=T)\n",
    "B_nu = bb(wavelengths)\n",
    "B_v = integrate.trapezoid(B_nu.cgs.value*transmission/wavelengths.cgs.value, x=wavelengths.cgs.value)/norm_integral\n",
    "\n",
    "\n",
    "F_M = (B_v * pi * 4*pi*R**2)/(4*pi*d**2)\n",
    "# Absolute magnitude\n",
    "M = -2.5 * np.log10(F_M/F_m)\n",
    "# gives estimate for magnitude of sun while it's modeled as a blackbody\n",
    "print(M)"
   ]
  },
  {
   "cell_type": "markdown",
   "id": "f52bd344-bb9f-4031-8881-4c139d1dbaf7",
   "metadata": {},
   "source": [
    "# For Larger Star (0.1 SM) in Visual Band #"
   ]
  },
  {
   "cell_type": "code",
   "execution_count": 3,
   "id": "83a644fc-9d11-470a-a0c4-3396c12392eb",
   "metadata": {},
   "outputs": [
    {
     "name": "stdout",
     "output_type": "stream",
     "text": [
      "13.185806449772786\n"
     ]
    }
   ],
   "source": [
    "R = (0.185*u.Rsun).cgs.value\n",
    "T = 2971*u.K\n",
    "\n",
    "norm_integral = integrate.trapezoid(transmission/wavelengths.cgs.value, x=wavelengths.cgs.value)\n",
    "bb = BlackBody(temperature=T)\n",
    "B_nu = bb(wavelengths)\n",
    "B_v = integrate.trapezoid(B_nu.cgs.value*transmission/wavelengths.cgs.value, x=wavelengths.cgs.value)/norm_integral\n",
    "\n",
    "F_M = (B_v * pi * 4*pi*R**2)/(4*pi*d**2)\n",
    "# Absolute magnitude\n",
    "M = -2.5 * np.log10(F_M/F_m)\n",
    "print(M)"
   ]
  },
  {
   "cell_type": "markdown",
   "id": "91ea3d03-d29a-4a50-8161-7083b0b45248",
   "metadata": {},
   "source": [
    "# For Infrared Bands #"
   ]
  },
  {
   "cell_type": "markdown",
   "id": "5d6232c7-3e24-4143-93a9-a03fd42aac3c",
   "metadata": {},
   "source": [
    "__J BAND__"
   ]
  },
  {
   "cell_type": "markdown",
   "id": "de5f7ede-4fee-4603-81d7-6b05ca7af491",
   "metadata": {},
   "source": [
    "*0.01 SM Star*"
   ]
  },
  {
   "cell_type": "code",
   "execution_count": 7,
   "id": "3f0aa217-4a94-49fc-bcc9-e437594ec310",
   "metadata": {},
   "outputs": [
    {
     "name": "stdout",
     "output_type": "stream",
     "text": [
      "Calculated: 19.757294944591354, Actual: 22.06\n"
     ]
    }
   ],
   "source": [
    "\n",
    "data = pd.read_csv('CTIO_ANDICAM.J.txt', sep=' ', header=None, names=['Wavelength', 'Transmission'])\n",
    "\n",
    "\n",
    "# wavelength in Angstrom\n",
    "wavelengths = data['Wavelength'].to_numpy()*u.AA\n",
    "# Probability of photon going through\n",
    "transmission = data['Transmission'].to_numpy()\n",
    "\n",
    "# Flux for zero-point (Vega system)\n",
    "F_0 = (1547.35*u.Jy).cgs.value\n",
    "# lambda ref in Angstroms\n",
    "lambda_ref = 12439.56*u.AA\n",
    "\n",
    "R = (0.130*u.Rsun).cgs.value\n",
    "T = 916*u.K\n",
    "\n",
    "norm_integral = integrate.trapezoid(transmission/wavelengths.cgs.value, x=wavelengths.cgs.value)\n",
    "bb = BlackBody(temperature=T)\n",
    "B_nu = bb(wavelengths)\n",
    "B_v = integrate.trapezoid(B_nu.cgs.value*transmission/wavelengths.cgs.value, x=wavelengths.cgs.value)/norm_integral\n",
    "\n",
    "F_M = (B_v * pi * 4*pi*R**2)/(4*pi*d**2)\n",
    "# Absolute magnitude\n",
    "M = -2.5 * np.log10(F_M/F_0)\n",
    "print(f\"Calculated: {M}, Actual: 22.06\")"
   ]
  },
  {
   "cell_type": "markdown",
   "id": "5315e987-a462-4eca-8f1a-1613660ccef5",
   "metadata": {},
   "source": [
    "*0.05 SM Star*"
   ]
  },
  {
   "cell_type": "code",
   "execution_count": 9,
   "id": "8d697fd1-b3c7-4486-8bb1-715192e6f453",
   "metadata": {},
   "outputs": [
    {
     "name": "stdout",
     "output_type": "stream",
     "text": [
      "Calculated: 10.996768269670046, Actual: 10.47\n"
     ]
    }
   ],
   "source": [
    "R = (0.140*u.Rsun).cgs.value\n",
    "T = 2483*u.K\n",
    "\n",
    "norm_integral = integrate.trapezoid(transmission/wavelengths.cgs.value, x=wavelengths.cgs.value)\n",
    "bb = BlackBody(temperature=T)\n",
    "B_nu = bb(wavelengths)\n",
    "B_v = integrate.trapezoid(B_nu.cgs.value*transmission/wavelengths.cgs.value, x=wavelengths.cgs.value)/norm_integral\n",
    "\n",
    "F_M = (B_v * pi * 4*pi*R**2)/(4*pi*d**2)\n",
    "# Absolute magnitude\n",
    "M = -2.5 * np.log10(F_M/F_0)\n",
    "print(f\"Calculated: {M}, Actual: 10.47\")"
   ]
  },
  {
   "cell_type": "markdown",
   "id": "637afb4c-2e31-4730-ac3b-fd8c3230b5e2",
   "metadata": {},
   "source": [
    "*0.1 SM Star*"
   ]
  },
  {
   "cell_type": "code",
   "execution_count": 11,
   "id": "6c6a0f78-99a6-43a1-8ee8-27570d30a2d8",
   "metadata": {},
   "outputs": [
    {
     "name": "stdout",
     "output_type": "stream",
     "text": [
      "Calculated: 9.549693981627705, Actual: 9.27\n"
     ]
    }
   ],
   "source": [
    "R = (0.185*u.Rsun).cgs.value\n",
    "T = 2971*u.K\n",
    "\n",
    "norm_integral = integrate.trapezoid(transmission/wavelengths.cgs.value, x=wavelengths.cgs.value)\n",
    "bb = BlackBody(temperature=T)\n",
    "B_nu = bb(wavelengths)\n",
    "B_v = integrate.trapezoid(B_nu.cgs.value*transmission/wavelengths.cgs.value, x=wavelengths.cgs.value)/norm_integral\n",
    "\n",
    "F_M = (B_v * pi * 4*pi*R**2)/(4*pi*d**2)\n",
    "# Absolute magnitude\n",
    "M = -2.5 * np.log10(F_M/F_0)\n",
    "print(f\"Calculated: {M}, Actual: 9.27\")"
   ]
  },
  {
   "cell_type": "markdown",
   "id": "c60db9eb-491f-46bf-bc5a-b376e03ea34c",
   "metadata": {},
   "source": [
    "__K Band__"
   ]
  },
  {
   "cell_type": "markdown",
   "id": "bfb78e61-25ec-4b83-9300-943b5e126f0f",
   "metadata": {},
   "source": [
    "*0.01SM Star*"
   ]
  },
  {
   "cell_type": "code",
   "execution_count": 14,
   "id": "d117adb5-3649-45eb-845f-e718f197dffc",
   "metadata": {
    "scrolled": true
   },
   "outputs": [
    {
     "name": "stdout",
     "output_type": "stream",
     "text": [
      "Calculated: 14.926060046863094, Actual: 15.20\n"
     ]
    }
   ],
   "source": [
    "data = pd.read_csv('CTIO_ANDICAM.K.txt', sep=' ', header=None, names=['Wavelength', 'Transmission'])\n",
    "\n",
    "\n",
    "# wavelength in Angstrom\n",
    "wavelengths = data['Wavelength'].to_numpy()*u.AA\n",
    "# Probability of photon going through\n",
    "transmission = data['Transmission'].to_numpy()\n",
    "\n",
    "# Flux for zero-point (Vega system)\n",
    "F_0 = (666.71*u.Jy).cgs.value\n",
    "# lambda ref in Angstroms\n",
    "lambda_ref = 21376.03*u.AA\n",
    "\n",
    "R = (0.130*u.Rsun).cgs.value\n",
    "T = 916*u.K\n",
    "\n",
    "norm_integral = integrate.trapezoid(transmission/wavelengths.cgs.value, x=wavelengths.cgs.value)\n",
    "bb = BlackBody(temperature=T)\n",
    "B_nu = bb(wavelengths)\n",
    "B_v = integrate.trapezoid(B_nu.cgs.value*transmission/wavelengths.cgs.value, x=wavelengths.cgs.value)/norm_integral\n",
    "\n",
    "F_M = (B_v * pi * 4*pi*R**2)/(4*pi*d**2)\n",
    "# Absolute magnitude\n",
    "M = -2.5 * np.log10(F_M/F_0)\n",
    "print(f\"Calculated: {M}, Actual: 15.20\")"
   ]
  },
  {
   "cell_type": "markdown",
   "id": "777ed01b-6834-47b1-9f29-811a1199d23a",
   "metadata": {},
   "source": [
    "_0.04 SM_"
   ]
  },
  {
   "cell_type": "code",
   "execution_count": 16,
   "id": "da892872-514f-4c36-8da1-3e099c1fd79a",
   "metadata": {},
   "outputs": [
    {
     "name": "stdout",
     "output_type": "stream",
     "text": [
      "Calculated: 10.14416802505262, Actual: 10.16\n"
     ]
    }
   ],
   "source": [
    "R = (0.132*u.Rsun).cgs.value\n",
    "T = 2234*u.K\n",
    "\n",
    "norm_integral = integrate.trapezoid(transmission/wavelengths.cgs.value, x=wavelengths.cgs.value)\n",
    "bb = BlackBody(temperature=T)\n",
    "B_nu = bb(wavelengths)\n",
    "B_v = integrate.trapezoid(B_nu.cgs.value*transmission/wavelengths.cgs.value, x=wavelengths.cgs.value)/norm_integral\n",
    "\n",
    "F_M = (B_v * pi * 4*pi*R**2)/(4*pi*d**2)\n",
    "# Absolute magnitude\n",
    "M = -2.5 * np.log10(F_M/F_0)\n",
    "print(f\"Calculated: {M}, Actual: 10.16\")"
   ]
  },
  {
   "cell_type": "markdown",
   "id": "9806b2e0-0e62-47b1-8622-5b8e751edf03",
   "metadata": {},
   "source": [
    "*0.05 SM Star*"
   ]
  },
  {
   "cell_type": "code",
   "execution_count": 18,
   "id": "b3155483-59e5-431a-8df0-2e3154fd2655",
   "metadata": {},
   "outputs": [
    {
     "name": "stdout",
     "output_type": "stream",
     "text": [
      "Calculated: 9.668110637658149, Actual: 9.70\n"
     ]
    }
   ],
   "source": [
    "R = (0.140*u.Rsun).cgs.value\n",
    "T = 2483*u.K\n",
    "\n",
    "norm_integral = integrate.trapezoid(transmission/wavelengths.cgs.value, x=wavelengths.cgs.value)\n",
    "bb = BlackBody(temperature=T)\n",
    "B_nu = bb(wavelengths)\n",
    "B_v = integrate.trapezoid(B_nu.cgs.value*transmission/wavelengths.cgs.value, x=wavelengths.cgs.value)/norm_integral\n",
    "\n",
    "F_M = (B_v * pi * 4*pi*R**2)/(4*pi*d**2)\n",
    "# Absolute magnitude\n",
    "M = -2.5 * np.log10(F_M/F_0)\n",
    "print(f\"Calculated: {M}, Actual: 9.70\")"
   ]
  },
  {
   "cell_type": "markdown",
   "id": "ebc2a8a4-5598-4a22-9823-fa82dc4d6f0d",
   "metadata": {},
   "source": [
    "*0.1SM Star*"
   ]
  },
  {
   "cell_type": "code",
   "execution_count": 20,
   "id": "5ac9cce9-b4f2-4e5f-90f5-e96556483af1",
   "metadata": {},
   "outputs": [
    {
     "name": "stdout",
     "output_type": "stream",
     "text": [
      "Calculated: 8.534614150111613, Actual: 8.54\n"
     ]
    }
   ],
   "source": [
    "R = (0.185*u.Rsun).cgs.value\n",
    "T = 2971*u.K\n",
    "\n",
    "norm_integral = integrate.trapezoid(transmission/wavelengths.cgs.value, x=wavelengths.cgs.value)\n",
    "bb = BlackBody(temperature=T)\n",
    "B_nu = bb(wavelengths)\n",
    "B_v = integrate.trapezoid(B_nu.cgs.value*transmission/wavelengths.cgs.value, x=wavelengths.cgs.value)/norm_integral\n",
    "\n",
    "F_M = (B_v * pi * 4*pi*R**2)/(4*pi*d**2)\n",
    "# Absolute magnitude\n",
    "M = -2.5 * np.log10(F_M/F_0)\n",
    "print(f\"Calculated: {M}, Actual: 8.54\")"
   ]
  },
  {
   "cell_type": "code",
   "execution_count": 21,
   "id": "a2dd556a-9f79-4a25-84d1-c245c6f5bc16",
   "metadata": {},
   "outputs": [
    {
     "name": "stdout",
     "output_type": "stream",
     "text": [
      "2.098114126057644e-06\n",
      "Calculated: 10.14416802505262, Actual: 10.16\n"
     ]
    },
    {
     "data": {
      "image/png": "[encoded data removed]",
      "text/plain": [
       "<Figure size 640x480 with 1 Axes>"
      ]
     },
     "metadata": {},
     "output_type": "display_data"
    }
   ],
   "source": [
    "R = (0.132*u.Rsun).cgs.value\n",
    "T = 2234*u.K\n",
    "\n",
    "norm_integral = integrate.trapezoid(transmission/wavelengths.cgs.value, x=wavelengths.cgs.value)\n",
    "bb = BlackBody(temperature=T)\n",
    "B_nu = bb(wavelengths)\n",
    "B_nu_func = pi*B_nu\n",
    "B_v = integrate.trapezoid(B_nu.cgs.value*transmission/wavelengths.cgs.value, x=wavelengths.cgs.value)/norm_integral\n",
    "print(B_v)\n",
    "\n",
    "F_M = (B_v * pi * 4*pi*R**2)/(4*pi*d**2)\n",
    "# Absolute magnitude\n",
    "M = -2.5 * np.log10(F_M/F_0)\n",
    "print(f\"Calculated: {M}, Actual: 10.16\")\n",
    "\n",
    "\n",
    "fig, ax = plt.subplots()\n",
    "ax.plot(wavelengths, B_nu_func)\n",
    "ax.set_xlabel(r\"$\\lambda$\" + \"($\\AA$)\")\n",
    "ax.set_ylabel(\"$\\pi$\" + \" x \" + r\"$B_{\\nu}$\")\n",
    "ax.set_xscale(\"log\")\n",
    "plt.show()"
   ]
  },
  {
   "cell_type": "code",
   "execution_count": 22,
   "id": "1ff710f1-72e1-4184-b0ba-9e750e0e9dd4",
   "metadata": {},
   "outputs": [
    {
     "name": "stdout",
     "output_type": "stream",
     "text": [
      "Filename: C:\\Users\\user\\.astropy\\cache\\download\\url\\43d91d1a0ce3e237e3a8da43fc6081c8\\contents\n",
      "No.    Name      Ver    Type      Cards   Dimensions   Format\n",
      "  0  PRIMARY       1 PrimaryHDU      54   ()      \n",
      "  1                1 BinTableHDU     47   5000R x 13C   [D, D, D, D, D, D, D, D, D, D, D, D, D]   \n",
      "(5000,)\n",
      "(5000,)\n",
      "3.7228875798439022e-06\n",
      "Calculated: 10.764415671183919, Actual: 10.16\n"
     ]
    }
   ],
   "source": [
    "# Opening fits file and reading data -1.5 metallicity and T=2200K\n",
    "hdul = fits.open(\"https://archive.stsci.edu/hlsps/reference-atlases/cdbs/grid/phoenix/phoenixm15/phoenixm15_2200.fits\")\n",
    "hdul.info()\n",
    "data = hdul[1].data\n",
    "\n",
    "wavLen = data['WAVELENGTH']\n",
    "\n",
    "# f_lamda values for log(g) = 4.8 -> estimate with log(g) = 5.0\n",
    "f_lambda = data['g50']\n",
    "\n",
    "# f_lambda function using table\n",
    "def f_lambda_func(wavelength_array):\n",
    "    # Use 1e8 instead of 10**8 for non-integers\n",
    "    return (f_lambda*1e8)*(wavelength_array*1e-8)**2/(const.c.cgs.value)\n",
    "    \n",
    "# Spline with f_lambda Phoenix Model\n",
    "def spline_lambda(f_lambda_table, wavelengthArr):\n",
    "    # convert from Angstrom to cm\n",
    "    wavelengthArr_cm = 1e-8*wavelengthArr\n",
    "    f_lambda_table_per_cm = f_lambda_table*1e8    \n",
    "    print(wavelengthArr_cm.shape)\n",
    "    print(f_lambda_table_per_cm.shape)\n",
    "    return InterpolatedUnivariateSpline(wavelengthArr_cm, f_lambda_table_per_cm*wavelengthArr_cm**2/const.c.cgs.value, k=1)\n",
    "\n",
    "# F_nu function(with f_nu as function of wavelength, transmission, over normal integral)\n",
    "def passband_flux(f_nu, transmissionArr, wavelengthsArr):\n",
    "    int_n = integrate.trapezoid(f_nu*transmissionArr/wavelengthsArr.cgs.value, x=wavelengthsArr.cgs.value)\n",
    "    int_d = integrate.trapezoid(transmissionArr/wavelengthsArr.cgs.value, x=wavelengthsArr.cgs.value)\n",
    "    return int_n/int_d\n",
    "\n",
    "spl = spline_lambda(f_lambda, wavLen)\n",
    "f_nu_phoenix = passband_flux(spl(wavelengths.cgs.value), transmission, wavelengths)\n",
    "\n",
    "print(f_nu_phoenix)\n",
    "\n",
    "\n",
    "F_M = (f_nu_phoenix * 4*pi*R**2)/(4*pi*d**2)\n",
    "# Absolute magnitude\n",
    "M = -2.5 * np.log10(F_M/F_0)\n",
    "print(f\"Calculated: {M}, Actual: 10.16\")"
   ]
  },
  {
   "cell_type": "code",
   "execution_count": 23,
   "id": "a1c54081-faff-4e0b-942a-9398507c1fc5",
   "metadata": {},
   "outputs": [],
   "source": [
    "norm_integral = integrate.trapezoid(transmission/wavelengths.cgs.value, x=wavelengths.cgs.value)\n",
    "bb = BlackBody(temperature=T)\n",
    "B_nu = bb(wavelengths)\n",
    "B_nu_func = pi*B_nu\n",
    "B_v = integrate.trapezoid(B_nu.cgs.value*transmission/wavelengths.cgs.value, x=wavelengths.cgs.value)/norm_integral"
   ]
  },
  {
   "cell_type": "code",
   "execution_count": 24,
   "id": "e0abbf12-135d-46be-9c63-8fd755d6902a",
   "metadata": {},
   "outputs": [
    {
     "data": {
      "image/png": "[encoded data removed]",
      "text/plain": [
       "<Figure size 640x480 with 1 Axes>"
      ]
     },
     "metadata": {},
     "output_type": "display_data"
    }
   ],
   "source": [
    "fig, ax = plt.subplots()\n",
    "ax.plot(wavelengths, B_nu_func, color='green')\n",
    "# these two are on top of each other\n",
    "ax.plot(wavelengths, spl(wavelengths.cgs.value), color='red')\n",
    "ax.plot(wavLen, f_lambda_func(wavLen), color='blue')\n",
    "# print(wavelengths[0])\n",
    "# print(wavelengths[-1])\n",
    "# ax.set_xlim(19560.0, 23170.0)\n",
    "ax.set_xlabel(r\"$\\lambda$\" + \"($\\AA$)\")\n",
    "ax.set_ylabel(r\"$F_{\\nu}$\")\n",
    "ax.set_xscale(\"log\")\n",
    "plt.show()"
   ]
  },
  {
   "cell_type": "markdown",
   "id": "78e3bd66-3fe6-4438-9ef8-ff9ab2364920",
   "metadata": {},
   "source": [
    " # Model Comparison for J Band and 0.04 SM #"
   ]
  },
  {
   "cell_type": "markdown",
   "id": "2a1d4785-168d-4972-bbc8-db3683be8a5b",
   "metadata": {},
   "source": [
    " # Blackbody Model #"
   ]
  },
  {
   "cell_type": "code",
   "execution_count": 27,
   "id": "1d0f56ca-73a1-4950-89b1-77d26509e12f",
   "metadata": {},
   "outputs": [
    {
     "name": "stdout",
     "output_type": "stream",
     "text": [
      "Calculated with Blackbody model: 11.691339986833082, Actual: 11.04\n"
     ]
    }
   ],
   "source": [
    "\n",
    "data = pd.read_csv('CTIO_ANDICAM.J.txt', sep=' ', header=None, names=['Wavelength', 'Transmission'])\n",
    "\n",
    "\n",
    "# wavelength in Angstrom\n",
    "wavelengths = data['Wavelength'].to_numpy()*u.AA\n",
    "# Probability of photon going through\n",
    "transmission = data['Transmission'].to_numpy()\n",
    "\n",
    "# Flux for zero-point (Vega system)\n",
    "F_0 = (1547.35*u.Jy).cgs.value\n",
    "# lambda ref in Angstroms\n",
    "lambda_ref = 12439.56*u.AA\n",
    "\n",
    "R = (0.132*u.Rsun).cgs.value\n",
    "T = 2234*u.K\n",
    "\n",
    "norm_integral = integrate.trapezoid(transmission/wavelengths.cgs.value, x=wavelengths.cgs.value)\n",
    "bb = BlackBody(temperature=T)\n",
    "B_nu = bb(wavelengths)\n",
    "B_v = integrate.trapezoid(B_nu.cgs.value*transmission/wavelengths.cgs.value, x=wavelengths.cgs.value)/norm_integral\n",
    "\n",
    "F_M = (B_v * pi * 4*pi*R**2)/(4*pi*d**2)\n",
    "# Absolute magnitude\n",
    "M = -2.5 * np.log10(F_M/F_0)\n",
    "print(f\"Calculated with Blackbody model: {M}, Actual: 11.04\")\n",
    "\n"
   ]
  },
  {
   "cell_type": "markdown",
   "id": "4585402a-e52f-42f0-9441-88560ea55f77",
   "metadata": {},
   "source": [
    " # Phoneix Model with [M/H] = -1.5, T=2200K, log(g) = 5.0 # "
   ]
  },
  {
   "cell_type": "code",
   "execution_count": 29,
   "id": "261585cd-85a9-4891-abe4-f568b10a4f77",
   "metadata": {},
   "outputs": [
    {
     "name": "stdout",
     "output_type": "stream",
     "text": [
      "Filename: C:\\Users\\user\\.astropy\\cache\\download\\url\\43d91d1a0ce3e237e3a8da43fc6081c8\\contents\n",
      "No.    Name      Ver    Type      Cards   Dimensions   Format\n",
      "  0  PRIMARY       1 PrimaryHDU      54   ()      \n",
      "  1                1 BinTableHDU     47   5000R x 13C   [D, D, D, D, D, D, D, D, D, D, D, D, D]   \n",
      "(5000,)\n",
      "(5000,)\n",
      "7.515458390320614e-06\n",
      "Calculated with Phoneix Model [M/H] = -1.5: 10.915855764803048, Actual: 11.04\n"
     ]
    }
   ],
   "source": [
    "# Phoenix Model\n",
    "\n",
    "# Opening fits file and reading data -1.5 metallicity and T=2200K\n",
    "hdul = fits.open(\"https://archive.stsci.edu/hlsps/reference-atlases/cdbs/grid/phoenix/phoenixm15/phoenixm15_2200.fits\")\n",
    "hdul.info()\n",
    "data = hdul[1].data\n",
    "\n",
    "wavLen = data['WAVELENGTH']\n",
    "\n",
    "# f_lamda values for log(g) = 4.8 -> estimate with log(g) = 5.0\n",
    "f_lambda = data['g50']\n",
    "\n",
    "spl = spline_lambda(f_lambda, wavLen)\n",
    "f_nu_phoenix = passband_flux(spl(wavelengths.cgs.value), transmission, wavelengths)\n",
    "\n",
    "print(f_nu_phoenix)\n",
    "\n",
    "\n",
    "F_M = (f_nu_phoenix * 4*pi*R**2)/(4*pi*d**2)\n",
    "# Absolute magnitude\n",
    "M = -2.5 * np.log10(F_M/F_0)\n",
    "print(f\"Calculated with Phoneix Model [M/H] = -1.5: {M}, Actual: 11.04\")"
   ]
  },
  {
   "cell_type": "markdown",
   "id": "a6fc6a89-cac6-4584-8d16-ea949c1c24c6",
   "metadata": {},
   "source": [
    " # Phoneix Model with [M/H] = -1.0, T=2200K, log(g) = 5.0 # "
   ]
  },
  {
   "cell_type": "code",
   "execution_count": 31,
   "id": "143f3755-3313-4e0e-8ac1-e26d4c9298da",
   "metadata": {},
   "outputs": [
    {
     "name": "stdout",
     "output_type": "stream",
     "text": [
      "Filename: C:\\Users\\user\\.astropy\\cache\\download\\url\\dfea8c14788788fcc9dad3412dbf4a36\\contents\n",
      "No.    Name      Ver    Type      Cards   Dimensions   Format\n",
      "  0  PRIMARY       1 PrimaryHDU      54   ()      \n",
      "  1                1 BinTableHDU     47   5000R x 13C   [D, D, D, D, D, D, D, D, D, D, D, D, D]   \n",
      "(5000,)\n",
      "(5000,)\n",
      "6.2424365716061354e-06\n",
      "Calculated with Phoneix Model [M/H] = -1.0: 11.117359105809985, Actual: 11.04\n"
     ]
    }
   ],
   "source": [
    "# Phoenix Model\n",
    "\n",
    "# Opening fits file and reading data -1.0 metallicity and T=2200K\n",
    "hdul = fits.open(\"https://archive.stsci.edu/hlsps/reference-atlases/cdbs/grid/phoenix/phoenixm10/phoenixm10_2200.fits\")\n",
    "hdul.info()\n",
    "data = hdul[1].data\n",
    "\n",
    "wavLen = data['WAVELENGTH']\n",
    "\n",
    "# f_lamda values for log(g) = 4.8 -> estimate with log(g) = 5.0\n",
    "f_lambda = data['g50']\n",
    "\n",
    "spl = spline_lambda(f_lambda, wavLen)\n",
    "f_nu_phoenix = passband_flux(spl(wavelengths.cgs.value), transmission, wavelengths)\n",
    "\n",
    "print(f_nu_phoenix)\n",
    "\n",
    "\n",
    "F_M = (f_nu_phoenix * 4*pi*R**2)/(4*pi*d**2)\n",
    "# Absolute magnitude\n",
    "M = -2.5 * np.log10(F_M/F_0)\n",
    "print(f\"Calculated with Phoneix Model [M/H] = -1.0: {M}, Actual: 11.04\")"
   ]
  },
  {
   "cell_type": "markdown",
   "id": "7eb92244-7078-4210-93a9-827f7f616687",
   "metadata": {},
   "source": [
    " # Phoneix Model with [M/H] = 0.0, T=2200K, log(g) = 5.0 # "
   ]
  },
  {
   "cell_type": "code",
   "execution_count": 33,
   "id": "72793450-6299-4772-97e3-41e12895db58",
   "metadata": {},
   "outputs": [
    {
     "name": "stdout",
     "output_type": "stream",
     "text": [
      "Filename: C:\\Users\\user\\.astropy\\cache\\download\\url\\278f661697350d4c9fee2038a28a706c\\contents\n",
      "No.    Name      Ver    Type      Cards   Dimensions   Format\n",
      "  0  PRIMARY       1 PrimaryHDU      60   ()      \n",
      "  1                1 BinTableHDU     50   103000R x 14C   [D, D, D, D, D, D, D, D, D, D, D, D, D, D]   \n",
      "(103000,)\n",
      "(103000,)\n",
      "7.149289720821372e-06\n",
      "Calculated with Phoneix Model [M/H] = 0.0: 10.970087209046454, Actual: 11.04\n"
     ]
    }
   ],
   "source": [
    "# Phoenix Model\n",
    "\n",
    "# Opening fits file and reading data 0.0 metallicity and T=2200K\n",
    "hdul = fits.open(\"https://archive.stsci.edu/hlsps/reference-atlases/cdbs/grid/phoenix/phoenixm00/phoenixm00_2200.fits\")\n",
    "hdul.info()\n",
    "data = hdul[1].data\n",
    "\n",
    "wavLen = data['WAVELENGTH']\n",
    "\n",
    "# f_lamda values for log(g) = 4.8 -> estimate with log(g) = 5.0\n",
    "f_lambda = data['g50']\n",
    "\n",
    "spl = spline_lambda(f_lambda, wavLen)\n",
    "f_nu_phoenix = passband_flux(spl(wavelengths.cgs.value), transmission, wavelengths)\n",
    "\n",
    "print(f_nu_phoenix)\n",
    "\n",
    "\n",
    "F_M = (f_nu_phoenix * 4*pi*R**2)/(4*pi*d**2)\n",
    "# Absolute magnitude\n",
    "M = -2.5 * np.log10(F_M/F_0)\n",
    "print(f\"Calculated with Phoneix Model [M/H] = 0.0: {M}, Actual: 11.04\")"
   ]
  },
  {
   "cell_type": "code",
   "execution_count": 34,
   "id": "83435ff1-6edb-4dd8-9cd1-615043856194",
   "metadata": {},
   "outputs": [
    {
     "name": "stderr",
     "output_type": "stream",
     "text": [
      "WARNING: UnitsWarning: 'ANGSTROM' did not parse as fits unit: At col 0, Unit 'ANGSTROM' not supported by the FITS standard. Did you mean Angstrom or angstrom? If this is meant to be a custom unit, define it with 'u.def_unit'. To have it recognized inside a file reader or other code, enable it with 'u.add_enabled_units'. For details, see https://docs.astropy.org/en/latest/units/combining_and_defining.html [astropy.units.core]\n",
      "WARNING: UnitsWarning: 'FLAM' did not parse as fits unit: At col 0, Unit 'FLAM' not supported by the FITS standard. Did you mean flm? If this is meant to be a custom unit, define it with 'u.def_unit'. To have it recognized inside a file reader or other code, enable it with 'u.add_enabled_units'. For details, see https://docs.astropy.org/en/latest/units/combining_and_defining.html [astropy.units.core]\n"
     ]
    },
    {
     "data": {
      "text/html": [
       "<div><i>Table length=103000</i>\n",
       "<table id=\"table2253267926160\" class=\"table-striped table-bordered table-condensed\">\n",
       "<thead><tr><th>WAVELENGTH</th><th>g00</th><th>g05</th><th>g10</th><th>g15</th><th>g20</th><th>g25</th><th>g30</th><th>g35</th><th>g40</th><th>g45</th><th>g50</th><th>g55</th><th>g60</th></tr></thead>\n",
       "<thead><tr><th>ANGSTROM</th><th>FLAM</th><th>FLAM</th><th>FLAM</th><th>FLAM</th><th>FLAM</th><th>FLAM</th><th>FLAM</th><th>FLAM</th><th>FLAM</th><th>FLAM</th><th>FLAM</th><th>FLAM</th><th>FLAM</th></tr></thead>\n",
       "<thead><tr><th>float64</th><th>float64</th><th>float64</th><th>float64</th><th>float64</th><th>float64</th><th>float64</th><th>float64</th><th>float64</th><th>float64</th><th>float64</th><th>float64</th><th>float64</th><th>float64</th></tr></thead>\n",
       "<tr><td>12.589254117941675</td><td>9.537619666537699e-104</td><td>4.308836351415668e-103</td><td>1.929389896700295e-102</td><td>6.4311701514844146e-102</td><td>3.13805101794214e-101</td><td>4.4903480006262976e-98</td><td>7.344293089906511e-98</td><td>1.0376000882173774e-97</td><td>1.3729666874640125e-97</td><td>1.8514841562384074e-97</td><td>2.5858897220468214e-97</td><td>3.849195771216583e-97</td><td>6.341762885516778e-97</td></tr>\n",
       "<tr><td>12.602166772461132</td><td>9.5376196665377e-104</td><td>4.3088363514156673e-103</td><td>1.929389896700295e-102</td><td>6.431170151484414e-102</td><td>3.1380510179421405e-101</td><td>4.490348000626298e-98</td><td>7.344293089906511e-98</td><td>1.0376000882173771e-97</td><td>1.3729666874640125e-97</td><td>1.8514841562384074e-97</td><td>2.585889722046822e-97</td><td>3.849195771216583e-97</td><td>6.341762885516779e-97</td></tr>\n",
       "<tr><td>12.615092671343216</td><td>9.537619666537699e-104</td><td>4.3088363514156673e-103</td><td>1.929389896700295e-102</td><td>6.4311701514844146e-102</td><td>3.13805101794214e-101</td><td>4.490348000626298e-98</td><td>7.344293089906511e-98</td><td>1.0376000882173772e-97</td><td>1.3729666874640128e-97</td><td>1.8514841562384074e-97</td><td>2.5858897220468214e-97</td><td>3.849195771216583e-97</td><td>6.341762885516779e-97</td></tr>\n",
       "<tr><td>12.628031828172519</td><td>9.5376196665377e-104</td><td>4.308836351415668e-103</td><td>1.929389896700295e-102</td><td>6.431170151484413e-102</td><td>3.13805101794214e-101</td><td>4.490348000626298e-98</td><td>7.344293089906511e-98</td><td>1.0376000882173772e-97</td><td>1.3729666874640128e-97</td><td>1.8514841562384074e-97</td><td>2.585889722046822e-97</td><td>3.849195771216583e-97</td><td>6.341762885516777e-97</td></tr>\n",
       "<tr><td>12.640984256547565</td><td>9.5376196665377e-104</td><td>4.3088363514156673e-103</td><td>1.929389896700295e-102</td><td>6.431170151484414e-102</td><td>3.13805101794214e-101</td><td>4.490348000626299e-98</td><td>7.344293089906511e-98</td><td>1.0376000882173771e-97</td><td>1.372966687464013e-97</td><td>1.8514841562384074e-97</td><td>2.585889722046822e-97</td><td>3.849195771216583e-97</td><td>6.341762885516778e-97</td></tr>\n",
       "<tr><td>12.653949970080829</td><td>9.537619666537702e-104</td><td>4.308836351415668e-103</td><td>1.929389896700295e-102</td><td>6.431170151484414e-102</td><td>3.13805101794214e-101</td><td>4.4903480006262976e-98</td><td>7.344293089906511e-98</td><td>1.0376000882173774e-97</td><td>1.3729666874640128e-97</td><td>1.851484156238407e-97</td><td>2.5858897220468214e-97</td><td>3.849195771216583e-97</td><td>6.341762885516777e-97</td></tr>\n",
       "<tr><td>12.666928982398746</td><td>9.537619666537699e-104</td><td>4.3088363514156673e-103</td><td>1.9293898967002945e-102</td><td>6.431170151484413e-102</td><td>3.13805101794214e-101</td><td>4.490348000626298e-98</td><td>7.344293089906512e-98</td><td>1.0376000882173774e-97</td><td>1.3729666874640128e-97</td><td>1.8514841562384074e-97</td><td>2.5858897220468214e-97</td><td>3.8491957712165837e-97</td><td>6.341762885516778e-97</td></tr>\n",
       "<tr><td>12.679921307141727</td><td>9.5376196665377e-104</td><td>4.3088363514156673e-103</td><td>1.9293898967002945e-102</td><td>6.431170151484413e-102</td><td>3.13805101794214e-101</td><td>4.4903480006262976e-98</td><td>7.344293089906511e-98</td><td>1.0376000882173774e-97</td><td>1.3729666874640128e-97</td><td>1.851484156238407e-97</td><td>2.5858897220468214e-97</td><td>3.849195771216583e-97</td><td>6.341762885516779e-97</td></tr>\n",
       "<tr><td>12.692926957964175</td><td>9.537619666537702e-104</td><td>4.308836351415667e-103</td><td>1.929389896700295e-102</td><td>6.431170151484414e-102</td><td>3.13805101794214e-101</td><td>4.4903480006262976e-98</td><td>7.344293089906511e-98</td><td>1.0376000882173774e-97</td><td>1.3729666874640128e-97</td><td>1.851484156238407e-97</td><td>2.5858897220468214e-97</td><td>3.8491957712165826e-97</td><td>6.341762885516777e-97</td></tr>\n",
       "<tr><td>...</td><td>...</td><td>...</td><td>...</td><td>...</td><td>...</td><td>...</td><td>...</td><td>...</td><td>...</td><td>...</td><td>...</td><td>...</td><td>...</td></tr>\n",
       "<tr><td>775777.848709135</td><td>0.10527932651785432</td><td>0.11128597219474334</td><td>0.11790696687147037</td><td>0.14459140209150434</td><td>0.11899871730551326</td><td>0.09375506975799935</td><td>0.11320551792807308</td><td>0.11494654524428775</td><td>0.11455888208137045</td><td>0.11669668910617449</td><td>0.1189642878901579</td><td>0.11622550669803504</td><td>0.11142737665410278</td></tr>\n",
       "<tr><td>775829.9755766393</td><td>0.10419004956550713</td><td>0.11236017285197554</td><td>0.11676099128108008</td><td>0.14704410978403418</td><td>0.11777826832877461</td><td>0.09439218887595835</td><td>0.11209940945459346</td><td>0.1109099944067059</td><td>0.11069198368728787</td><td>0.11426257720772115</td><td>0.11712545784706029</td><td>0.11302049876360312</td><td>0.1094200328133966</td></tr>\n",
       "<tr><td>775882.105946706</td><td>0.10493992931088035</td><td>0.11441713785684829</td><td>0.1177882022987738</td><td>0.1494966526827661</td><td>0.119269225437074</td><td>0.1022068331921161</td><td>0.11970935336741617</td><td>0.11368037804804962</td><td>0.11065837235248932</td><td>0.11336108811062379</td><td>0.11565478631310255</td><td>0.10863624054798027</td><td>0.10670148803320216</td></tr>\n",
       "<tr><td>775934.2398195704</td><td>0.10568975867294282</td><td>0.11647396465728542</td><td>0.11881534429967894</td><td>0.14763263720551068</td><td>0.120760082370171</td><td>0.10562336693831477</td><td>0.1251207086766704</td><td>0.1194711443024678</td><td>0.11408890663441675</td><td>0.11487751369092758</td><td>0.1164120070223318</td><td>0.10935897242924933</td><td>0.10656982313129941</td></tr>\n",
       "<tr><td>775986.3771954679</td><td>0.10643953765508019</td><td>0.11853065326257384</td><td>0.11984241728843313</td><td>0.1435129588843993</td><td>0.12225083913479706</td><td>0.10674145138245932</td><td>0.12938296443345704</td><td>0.1268400992593244</td><td>0.11932960448113235</td><td>0.11765743079166036</td><td>0.11833344275599207</td><td>0.11275046309391261</td><td>0.1077899994904693</td></tr>\n",
       "<tr><td>776038.518074634</td><td>0.1071892662606792</td><td>0.12058720368200371</td><td>0.12086942126967573</td><td>0.13939355735836723</td><td>0.12374149573768602</td><td>0.10589007046236429</td><td>0.12851677744744308</td><td>0.12632828237667687</td><td>0.11883643830399568</td><td>0.11738571694361417</td><td>0.11804413410678702</td><td>0.1123002758436295</td><td>0.10699064743549526</td></tr>\n",
       "<tr><td>776090.662457304</td><td>0.1079389444931229</td><td>0.12264361592485483</td><td>0.12189635624804096</td><td>0.13527443260882652</td><td>0.12523205218556416</td><td>0.1043422265124846</td><td>0.12583695800942027</td><td>0.12302945845881263</td><td>0.11631551667796947</td><td>0.11603480781701139</td><td>0.11697300986895462</td><td>0.11049150152695023</td><td>0.1054771253299535</td></tr>\n",
       "<tr><td>776142.8103437132</td><td>0.1086885723557955</td><td>0.12469989000041035</td><td>0.12292322222816456</td><td>0.13115558461718252</td><td>0.12672250848516023</td><td>0.10013882691257024</td><td>0.11945432301803194</td><td>0.11723473040372713</td><td>0.11271099470318002</td><td>0.11362123447815563</td><td>0.11472438311638374</td><td>0.10606217172367308</td><td>0.10216132251185545</td></tr>\n",
       "<tr><td>776194.9617340971</td><td>0.10943814985208243</td><td>0.12675602591795665</td><td>0.12395001921468406</td><td>0.12703701336483378</td><td>0.1282128646432053</td><td>0.09535647272625651</td><td>0.11226444104373194</td><td>0.11089595127865326</td><td>0.10887032937390244</td><td>0.11097602138109092</td><td>0.11221906176194495</td><td>0.10106153272172565</td><td>0.09845261733097893</td></tr>\n",
       "<tr><td>776247.1166286912</td><td>0.11234244375207648</td><td>0.12881202368677444</td><td>0.12704123350073995</td><td>0.1303592029285105</td><td>0.13151146759781096</td><td>0.09428098998215076</td><td>0.11031091046212449</td><td>0.10897635914468665</td><td>0.10738195799397168</td><td>0.10961998960530175</td><td>0.11066534953218445</td><td>0.09835352728582256</td><td>0.09628593039799056</td></tr>\n",
       "</table></div>"
      ],
      "text/plain": [
       "<Table length=103000>\n",
       "    WAVELENGTH              g00           ...          g60         \n",
       "     ANGSTROM               FLAM          ...          FLAM        \n",
       "     float64              float64         ...        float64       \n",
       "------------------ ---------------------- ... ---------------------\n",
       "12.589254117941675 9.537619666537699e-104 ... 6.341762885516778e-97\n",
       "12.602166772461132   9.5376196665377e-104 ... 6.341762885516779e-97\n",
       "12.615092671343216 9.537619666537699e-104 ... 6.341762885516779e-97\n",
       "12.628031828172519   9.5376196665377e-104 ... 6.341762885516777e-97\n",
       "12.640984256547565   9.5376196665377e-104 ... 6.341762885516778e-97\n",
       "12.653949970080829 9.537619666537702e-104 ... 6.341762885516777e-97\n",
       "12.666928982398746 9.537619666537699e-104 ... 6.341762885516778e-97\n",
       "12.679921307141727   9.5376196665377e-104 ... 6.341762885516779e-97\n",
       "12.692926957964175 9.537619666537702e-104 ... 6.341762885516777e-97\n",
       "               ...                    ... ...                   ...\n",
       "  775777.848709135    0.10527932651785432 ...   0.11142737665410278\n",
       " 775829.9755766393    0.10419004956550713 ...    0.1094200328133966\n",
       "  775882.105946706    0.10493992931088035 ...   0.10670148803320216\n",
       " 775934.2398195704    0.10568975867294282 ...   0.10656982313129941\n",
       " 775986.3771954679    0.10643953765508019 ...    0.1077899994904693\n",
       "  776038.518074634     0.1071892662606792 ...   0.10699064743549526\n",
       "  776090.662457304     0.1079389444931229 ...    0.1054771253299535\n",
       " 776142.8103437132     0.1086885723557955 ...   0.10216132251185545\n",
       " 776194.9617340971    0.10943814985208243 ...   0.09845261733097893\n",
       " 776247.1166286912    0.11234244375207648 ...   0.09628593039799056"
      ]
     },
     "execution_count": 34,
     "metadata": {},
     "output_type": "execute_result"
    }
   ],
   "source": [
    "\n",
    "Table.read(r\"https://archive.stsci.edu/hlsps/reference-atlases/cdbs/grid/phoenix/phoenixm00/phoenixm00_2200.fits\")"
   ]
  }
 ],
 "metadata": {
  "kernelspec": {
   "display_name": "Python 3 (ipykernel)",
   "language": "python",
   "name": "python3"
  },
  "language_info": {
   "codemirror_mode": {
    "name": "ipython",
    "version": 3
   },
   "file_extension": ".py",
   "mimetype": "text/x-python",
   "name": "python",
   "nbconvert_exporter": "python",
   "pygments_lexer": "ipython3",
   "version": "3.11.7"
  }
 },
 "nbformat": 4,
 "nbformat_minor": 5
}
