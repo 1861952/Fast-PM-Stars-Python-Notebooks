{
 "cells": [
  {
   "cell_type": "code",
   "execution_count": 1,
   "id": "6f446c24-4171-49d7-9a7b-ef19cc88b02e",
   "metadata": {},
   "outputs": [],
   "source": [
    "import numpy as np\n",
    "import os\n",
    "import scipy.stats as sps\n",
    "\n",
    "import matplotlib\n",
    "matplotlib.use('Agg')\n",
    "import matplotlib.pyplot as plt\n",
    "%matplotlib inline\n",
    "import qp\n"
   ]
  },
  {
   "cell_type": "code",
   "execution_count": 2,
   "id": "19c2e7fc-fe9d-4fc8-bd6b-ace5539812e0",
   "metadata": {},
   "outputs": [],
   "source": [
    "# Run Notebook that contains neccessary functions\n",
    "%run convert_file.ipynb\n",
    "%run f_nu_models.ipynb\n"
   ]
  },
  {
   "cell_type": "markdown",
   "id": "8ad11dfc-2d3e-4616-8689-d19e7c3deca7",
   "metadata": {},
   "source": [
    "# Constants #"
   ]
  },
  {
   "cell_type": "code",
   "execution_count": 4,
   "id": "a1ed30d5-3ec7-45fc-9540-8885ff813ea5",
   "metadata": {},
   "outputs": [],
   "source": [
    "# these things don't change the value because they get cancelled for color (only depends on SED which depends on temperature)\n",
    "R = (0.185*u.Rsun).cgs.value\n",
    "d = (10*u.pc).cgs.value\n",
    "# F_0 in AB system, which is constant\n",
    "F_0 = (3631.00*u.Jy).cgs.value\n",
    "\n"
   ]
  },
  {
   "cell_type": "markdown",
   "id": "c7938f93-cd9c-4b9c-b97b-5de6de5c03a4",
   "metadata": {},
   "source": [
    "#  Color Magnitude Differences #"
   ]
  },
  {
   "cell_type": "code",
   "execution_count": 6,
   "id": "cbee8c30-bf58-4853-87e5-ca7612722068",
   "metadata": {},
   "outputs": [
    {
     "name": "stdout",
     "output_type": "stream",
     "text": [
      "r-i: 2.1546643660200306\n",
      "i-z: 0.9489481769004104\n",
      "z-Y: 0.3411371969152057\n"
     ]
    }
   ],
   "source": [
    "# Read in Z, Y, r, and i passband files\n",
    "wavelengths_z, transmission_z = ascii_to_array('CTIO/CTIO_DECam-z.txt')\n",
    "wavelengths_Y, transmission_Y = ascii_to_array('CTIO/CTIO_DECam.Y.txt')\n",
    "wavelengths_i, transmission_i = ascii_to_array('CTIO/CTIO_DECam.i.txt')\n",
    "wavelengths_r, transmission_r = ascii_to_array('CTIO/CTIO_DECam.r.txt')\n",
    "\n",
    "# Get surface flux from spline\n",
    "# f_nu_table = fits_to_spline('https://archive.stsci.edu/hlsps/reference-atlases/cdbs/grid/phoenix/phoenixm00/phoenixm00_3000.fits', 'g50')\n",
    "f_nu_table = fits_to_spline('https://archive.stsci.edu/hlsps/reference-atlases/cdbs/grid/phoenix/phoenixm00/phoenixm00_2800.fits', 'g50')\n",
    "\n",
    "\n",
    "f_nu_z = passband_flux(f_nu_table(wavelengths_z.cgs.value), transmission_z, wavelengths_z)\n",
    "f_nu_Y = passband_flux(f_nu_table(wavelengths_Y.cgs.value), transmission_Y, wavelengths_Y)\n",
    "f_nu_i = passband_flux(f_nu_table(wavelengths_i.cgs.value), transmission_i, wavelengths_i)\n",
    "f_nu_r = passband_flux(f_nu_table(wavelengths_r.cgs.value), transmission_r, wavelengths_r)\n",
    "\n",
    "m_z = get_and_compare_mag(f_nu_z, R, d, F_0)\n",
    "m_Y = get_and_compare_mag(f_nu_Y, R, d, F_0)\n",
    "m_i = get_and_compare_mag(f_nu_i, R, d, F_0)\n",
    "m_r = get_and_compare_mag(f_nu_r, R, d, F_0)\n",
    "\n",
    "\n",
    "print(f\"r-i: {m_r - m_i}\")\n",
    "print(f\"i-z: {m_i - m_z}\")\n",
    "print(f\"z-Y: {m_z - m_Y}\")"
   ]
  },
  {
   "cell_type": "code",
   "execution_count": 7,
   "id": "df432e8b-763f-4feb-97f2-beed22f31a7d",
   "metadata": {},
   "outputs": [
    {
     "data": {
      "image/png": "[encoded data removed]",
      "text/plain": [
       "<Figure size 1000x600 with 1 Axes>"
      ]
     },
     "metadata": {},
     "output_type": "display_data"
    }
   ],
   "source": [
    "fig, ax = plt.subplots(figsize=(10, 6))\n",
    "# Parameters\n",
    "shift_amount = 10.5  # Amount to shift the distribution to the right\n",
    "\n",
    "\n",
    "# Values and Frequencies\n",
    "midpoints = np.array([10.75, 11.25, 11.75, 12.25, 12.75, 13.25, 13.75, 14.25, 14.75])\n",
    "# midpoints rounded to M_J array from paper:\n",
    "rounded_midpoints = np.array([10.47, 11.04, 12.22, 12.22, 12.22, 12.22, 12.22, 15.68, 15.68])\n",
    "counts = np.array([23, 20, 14, 10, 6, 7, 6, 8, 4])\n",
    "\n",
    "plt.bar(midpoints, counts, width=0.5, edgecolor='black')\n",
    "\n",
    "plt.xlabel('$M_J$')\n",
    "# Density\n",
    "plt.ylabel('Density')\n",
    "# plt.ylabel('$\\Phi(M_J)$'+ '(' + '$10^{-3}$' + 'objects ' + '$pc^{-3}$' + '$mag^{-1}$' +')')\n",
    "plt.title('Luminosity Function')\n",
    "plt.show()\n"
   ]
  },
  {
   "cell_type": "code",
   "execution_count": 8,
   "id": "0afc14a5-d39c-4fcf-9339-edcbcde9cdf8",
   "metadata": {},
   "outputs": [],
   "source": [
    "# Get surface flux from spline\n",
    "# f_nu_table = fits_to_spline('https://archive.stsci.edu/hlsps/reference-atlases/cdbs/grid/phoenix/phoenixm00/phoenixm00_3000.fits', 'g50')\n",
    "f_nu_table_2400K_g50 =  fits_to_spline('https://archive.stsci.edu/hlsps/reference-atlases/cdbs/grid/phoenix/phoenixm00/phoenixm00_2400.fits', 'g50')\n",
    "f_nu_table_2200K_g50 =  fits_to_spline('https://archive.stsci.edu/hlsps/reference-atlases/cdbs/grid/phoenix/phoenixm00/phoenixm00_2200.fits', 'g50')\n",
    "f_nu_table_2000K_g45 =  fits_to_spline('https://archive.stsci.edu/hlsps/reference-atlases/cdbs/grid/phoenix/phoenixm00/phoenixm00_2000.fits', 'g45')\n",
    "\n",
    "\n"
   ]
  },
  {
   "cell_type": "markdown",
   "id": "d9c9c254-b690-44ef-97c7-ea7a173ecc50",
   "metadata": {},
   "source": [
    "# z - J #"
   ]
  },
  {
   "cell_type": "code",
   "execution_count": 10,
   "id": "461f0b8b-c6e9-4d19-8401-fc29a8ea2c70",
   "metadata": {},
   "outputs": [
    {
     "name": "stdout",
     "output_type": "stream",
     "text": [
      "z-J: 1.6810891893035649\n"
     ]
    }
   ],
   "source": [
    "f_nu_z = passband_flux(f_nu_table_2400K_g50(wavelengths_z.cgs.value), transmission_z, wavelengths_z)\n",
    "m_z = get_and_compare_mag(f_nu_z, R, d, F_0)\n",
    "print(f\"z-J: {m_z - rounded_midpoints[0]}\")"
   ]
  },
  {
   "cell_type": "code",
   "execution_count": 11,
   "id": "6ac4575d-0bd8-4344-9b3b-43fdd4bb14da",
   "metadata": {},
   "outputs": [],
   "source": [
    "def z_J_mag(f_nu_Table, J_index, wavelengths_z=wavelengths_z, transmission_z=transmission_z, R=R, d=d, F_0=F_0):\n",
    "    f_nu_z = passband_flux(f_nu_Table(wavelengths_z.cgs.value), transmission_z, wavelengths_z)\n",
    "    m_z = get_and_compare_mag(f_nu_z, R, d, F_0)\n",
    "    print(f\"z-J: {m_z - rounded_midpoints[J_index]}\")"
   ]
  },
  {
   "cell_type": "code",
   "execution_count": 12,
   "id": "897be745-4901-4d60-999d-3d2e3ce68380",
   "metadata": {},
   "outputs": [
    {
     "name": "stdout",
     "output_type": "stream",
     "text": [
      "z-J: 1.6810891893035649\n",
      "z-J: 1.6917263668433637\n",
      "z-J: 2.0466870427449795\n",
      "z-J: -1.4133129572550196\n"
     ]
    }
   ],
   "source": [
    "z_J_mag(f_nu_table_2400K_g50, 0)\n",
    "z_J_mag(f_nu_table_2200K_g50, 1)\n",
    "z_J_mag(f_nu_table_2000K_g45, 2)\n",
    "# z_J_mag(f_nu_table_2000K_g45, 3)\n",
    "# z_J_mag(f_nu_table_2000K_g45, 4)\n",
    "# z_J_mag(f_nu_table_2000K_g45, 5)\n",
    "# z_J_mag(f_nu_table_2000K_g45, 6)\n",
    "# z_J_mag(f_nu_table_2000K_g45, 7)\n",
    "z_J_mag(f_nu_table_2000K_g45, 8)"
   ]
  },
  {
   "cell_type": "markdown",
   "id": "f1d165bf-97b1-464f-9eec-94a0da762b4b",
   "metadata": {},
   "source": [
    "# Function for getting difference between color magnitudes #"
   ]
  },
  {
   "cell_type": "code",
   "execution_count": 14,
   "id": "83632fb3-7dbc-4f2e-a2c2-5ea14c1cc587",
   "metadata": {},
   "outputs": [],
   "source": [
    "\n",
    "def get_color_diff(wavelengths1, wavelengths2, transmission1, transmission2, f_nu_Table, R=R, d=d, F_0=F_0):\n",
    "    f_nu_1 = passband_flux(f_nu_Table(wavelengths1.cgs.value), transmission1, wavelengths1)\n",
    "    f_nu_2 = passband_flux(f_nu_Table(wavelengths2.cgs.value), transmission2, wavelengths2)\n",
    "    m_1 = get_and_compare_mag(f_nu_1, R, d, F_0)\n",
    "    m_2 = get_and_compare_mag(f_nu_2, R, d, F_0)\n",
    "    print({m_1 - m_2})"
   ]
  },
  {
   "cell_type": "markdown",
   "id": "4702bd1f-0aa0-499f-ab84-f0838bdec052",
   "metadata": {},
   "source": [
    "#  r - i #"
   ]
  },
  {
   "cell_type": "code",
   "execution_count": 16,
   "id": "dbd430d8-9c1a-4eaf-97c2-d9e693c1a6f7",
   "metadata": {},
   "outputs": [
    {
     "name": "stdout",
     "output_type": "stream",
     "text": [
      "{2.6632166549913308}\n",
      "{2.5155935159720304}\n",
      "{2.414617820726491}\n"
     ]
    }
   ],
   "source": [
    "get_color_diff(wavelengths_r, wavelengths_i, transmission_r, transmission_i, f_nu_table_2400K_g50)\n",
    "get_color_diff(wavelengths_r, wavelengths_i, transmission_r, transmission_i, f_nu_table_2200K_g50)\n",
    "get_color_diff(wavelengths_r, wavelengths_i, transmission_r, transmission_i, f_nu_table_2000K_g45)"
   ]
  },
  {
   "cell_type": "markdown",
   "id": "845daa8e-43a3-434f-8544-f44e183e90af",
   "metadata": {},
   "source": [
    "# i - z #"
   ]
  },
  {
   "cell_type": "code",
   "execution_count": 18,
   "id": "769e8ab5-9b3a-4c12-955e-2f18c43cd375",
   "metadata": {},
   "outputs": [
    {
     "name": "stdout",
     "output_type": "stream",
     "text": [
      "{1.5851394358811248}\n",
      "{1.8610180465419965}\n",
      "{2.0821129309012}\n"
     ]
    }
   ],
   "source": [
    "get_color_diff(wavelengths_i, wavelengths_z, transmission_i, transmission_z, f_nu_table_2400K_g50)\n",
    "get_color_diff(wavelengths_i, wavelengths_z, transmission_i, transmission_z, f_nu_table_2200K_g50)\n",
    "get_color_diff(wavelengths_i, wavelengths_z, transmission_i, transmission_z, f_nu_table_2000K_g45)"
   ]
  },
  {
   "cell_type": "markdown",
   "id": "5bdf0830-46b3-4e85-b88b-34d67d09507b",
   "metadata": {},
   "source": [
    "# z - Y #"
   ]
  },
  {
   "cell_type": "code",
   "execution_count": 20,
   "id": "92e3a924-10e8-40e7-ae47-7bbb3a7d4d01",
   "metadata": {},
   "outputs": [
    {
     "name": "stdout",
     "output_type": "stream",
     "text": [
      "{0.5417119366822902}\n",
      "{0.6128292647110012}\n",
      "{0.7631576157843654}\n"
     ]
    }
   ],
   "source": [
    "get_color_diff(wavelengths_z, wavelengths_Y, transmission_z, transmission_Y, f_nu_table_2400K_g50)\n",
    "get_color_diff(wavelengths_z, wavelengths_Y, transmission_z, transmission_Y, f_nu_table_2200K_g50)\n",
    "get_color_diff(wavelengths_z, wavelengths_Y, transmission_z, transmission_Y, f_nu_table_2000K_g45)"
   ]
  },
  {
   "cell_type": "markdown",
   "id": "faa6af3a-5926-4c77-8a32-25ce5e85cd51",
   "metadata": {},
   "source": [
    "# Converting from pdf to cdf with qp package #"
   ]
  },
  {
   "cell_type": "code",
   "execution_count": 23,
   "id": "096adc70-8b9f-4a81-9615-afd445ca8b19",
   "metadata": {},
   "outputs": [
    {
     "data": {
      "text/plain": [
       "array([[10.68246996, 11.00518574, 13.39463554, ..., 11.24815433,\n",
       "        11.54787844, 12.21506381]])"
      ]
     },
     "execution_count": 23,
     "metadata": {},
     "output_type": "execute_result"
    }
   ],
   "source": [
    "sample_size = 100000\n",
    "bin_edges = np.linspace(10.5, 15, 10)\n",
    "counts = np.array([23, 20, 14, 10, 6, 7, 6, 8, 4])\n",
    "bin_widths = 0.5\n",
    "midpoints = 0.5*(bin_edges[:-1]+bin_edges[1:])\n",
    "data = np.repeat(midpoints, counts)\n",
    "pdfs = counts/np.sum(counts*bin_widths)\n",
    "\n",
    "# qp.Ensemble class has objects representing a set of probability density functions\n",
    "ens_h = qp.Ensemble(qp.hist, data=dict(bins=bin_edges, pdfs=pdfs))\n",
    "# random_state same as previous way\n",
    "seed_val = 3\n",
    "rng = np.random.default_rng(seed_val)\n",
    "ens_h.rvs(size=sample_size, random_state=rng)"
   ]
  },
  {
   "cell_type": "code",
   "execution_count": null,
   "id": "4a1b22a1-5498-4ab7-9eb3-1aa3524020dd",
   "metadata": {},
   "outputs": [],
   "source": []
  }
 ],
 "metadata": {
  "kernelspec": {
   "display_name": "Python 3 (ipykernel)",
   "language": "python",
   "name": "python3"
  },
  "language_info": {
   "codemirror_mode": {
    "name": "ipython",
    "version": 3
   },
   "file_extension": ".py",
   "mimetype": "text/x-python",
   "name": "python",
   "nbconvert_exporter": "python",
   "pygments_lexer": "ipython3",
   "version": "3.11.7"
  }
 },
 "nbformat": 4,
 "nbformat_minor": 5
}
