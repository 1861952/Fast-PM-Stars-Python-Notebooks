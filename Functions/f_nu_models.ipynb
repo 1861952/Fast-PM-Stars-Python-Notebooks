{
 "cells": [
  {
   "cell_type": "code",
   "execution_count": 1,
   "id": "d9ea0e68-9b6c-4e72-bc93-041053e187cc",
   "metadata": {},
   "outputs": [],
   "source": [
    "# General imports:\n",
    "import numpy as np\n",
    "import pandas as pd\n",
    "import matplotlib.pyplot as plt\n",
    "\n",
    "# Astropy imports:\n",
    "from astropy.io import fits\n",
    "from astropy import units as u\n",
    "from astropy import constants as const\n",
    "\n",
    "#Scipy imports\n",
    "from scipy.interpolate import InterpolatedUnivariateSpline\n",
    "from scipy import integrate\n",
    "from scipy.stats import powerlaw\n",
    "\n",
    "# Astropy imports \n",
    "from astropy.modeling.models import BlackBody\n",
    "from astropy.visualization import quantity_support\n",
    "\n",
    "# qp import\n",
    "import qp"
   ]
  },
  {
   "cell_type": "code",
   "execution_count": 2,
   "id": "fc746dff-3c5e-4f2b-a053-ae1ad214c87b",
   "metadata": {},
   "outputs": [],
   "source": [
    "pi = np.pi"
   ]
  },
  {
   "cell_type": "markdown",
   "id": "7452b476-2b7d-49ef-a739-b3f4b14ff4d8",
   "metadata": {},
   "source": [
    "# Function for getting radial distribution $\\frac{dN}{dr}$ (powerlaw model) #"
   ]
  },
  {
   "cell_type": "code",
   "execution_count": 4,
   "id": "eae8bc9b-716e-4475-a386-523e7a8e6b24",
   "metadata": {},
   "outputs": [],
   "source": [
    "def get_radial_distribution(sample_size=100000, max_radius = 2000):\n",
    "    # raised to the power of a-1, so squared\n",
    "    a = 3\n",
    "    mean, var, skew, kurt = powerlaw.stats(a, moments='mvsk')    \n",
    "    # distance-distribution\n",
    "    radial_dist = powerlaw(a, scale=max_radius)\n",
    "    return radial_dist"
   ]
  },
  {
   "cell_type": "markdown",
   "id": "cdfaf610-052c-4c75-9e14-ab675557257a",
   "metadata": {},
   "source": [
    "# Function for getting distribution using qp model #"
   ]
  },
  {
   "cell_type": "code",
   "execution_count": 6,
   "id": "f3a98be1-511b-41d7-9a6c-ae2c82d10323",
   "metadata": {},
   "outputs": [],
   "source": [
    "def get_qp_distribution(bin_edges, counts, sample_size = 100000):\n",
    "    bin_widths = bin_edges[1:] - bin_edges[:-1]\n",
    "    midpoints = 0.5*(bin_edges[:-1]+bin_edges[1:])\n",
    "    # already normalized when check_input is True\n",
    "    pdfs = counts\n",
    "    \n",
    "    # qp.Ensemble class has objects representing a set of probability density functions\n",
    "    ens_h = qp.Ensemble(qp.hist, data=dict(bins=bin_edges, pdfs=pdfs))\n",
    "    return ens_h"
   ]
  },
  {
   "cell_type": "markdown",
   "id": "bb2dc03a-ad56-476d-b95c-e566376c336c",
   "metadata": {},
   "source": [
    "# Functions for making f_lambda spline from Phoenix model #"
   ]
  },
  {
   "cell_type": "code",
   "execution_count": 8,
   "id": "38bde34c-8d99-489e-9a2c-bebeecdb3d39",
   "metadata": {},
   "outputs": [],
   "source": [
    "# f_lambda function using table\n",
    "def f_lambda_func(wavelength_array):\n",
    "    # Use 1e8 instead of 10**8 for non-integers\n",
    "    return (f_lambda*1e8)*(wavelength_array*1e-8)**2/(const.c.cgs.value)\n",
    "    \n",
    "    \n",
    "\n",
    "# F_nu function(with f_nu as function of wavelength, transmission, over normal integral)\n",
    "def passband_flux(flux, transmissionArr, wavelengthsArr):\n",
    "    int_n = integrate.trapezoid(flux*transmissionArr/wavelengthsArr.cgs.value, x=wavelengthsArr.cgs.value)\n",
    "    int_d = integrate.trapezoid(transmissionArr/wavelengthsArr.cgs.value, x=wavelengthsArr.cgs.value)\n",
    "    return int_n/int_d\n",
    "\n",
    "    \n"
   ]
  },
  {
   "cell_type": "markdown",
   "id": "a3d79e14-725c-4ba7-9cf5-2e783d7e65aa",
   "metadata": {},
   "source": [
    "# Returns and compares absolute magnitude against given \"actual\" magnitude, \n"
   ]
  },
  {
   "cell_type": "code",
   "execution_count": 10,
   "id": "15f05335-f1fa-43e9-a37e-b6e27ad2bdd7",
   "metadata": {},
   "outputs": [],
   "source": [
    "# f_nu (surface flux), R (radius of star), d (distance from observer to star), and F_0 (zero-point flux)\n",
    "\n",
    "def get_and_compare_mag(f_nu, R, d, F_0, actual_mag=None):\n",
    "    if actual_mag is None:\n",
    "        F_M = (f_nu * 4*pi*R**2)/(4*pi*d**2)\n",
    "        # Absolute magnitude\n",
    "        M = -2.5 * np.log10(F_M/F_0)\n",
    "        return M\n",
    "        \n",
    "\n",
    "    else:\n",
    "        F_M = (f_nu * 4*pi*R**2)/(4*pi*d**2)\n",
    "        # Absolute magnitude\n",
    "        M = -2.5 * np.log10(F_M/F_0)\n",
    "        print(f\"Calculated: {M}, Actual: {actual_mag}\")\n",
    "        return M"
   ]
  }
 ],
 "metadata": {
  "kernelspec": {
   "display_name": "Python 3 (ipykernel)",
   "language": "python",
   "name": "python3"
  },
  "language_info": {
   "codemirror_mode": {
    "name": "ipython",
    "version": 3
   },
   "file_extension": ".py",
   "mimetype": "text/x-python",
   "name": "python",
   "nbconvert_exporter": "python",
   "pygments_lexer": "ipython3",
   "version": "3.11.7"
  }
 },
 "nbformat": 4,
 "nbformat_minor": 5
}
